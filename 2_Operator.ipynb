{
  "nbformat": 4,
  "nbformat_minor": 0,
  "metadata": {
    "colab": {
      "provenance": [],
      "authorship_tag": "ABX9TyP+co9MB1AM6JqdsMcVeZKc",
      "include_colab_link": true
    },
    "kernelspec": {
      "name": "python3",
      "display_name": "Python 3"
    },
    "language_info": {
      "name": "python"
    }
  },
  "cells": [
    {
      "cell_type": "markdown",
      "metadata": {
        "id": "view-in-github",
        "colab_type": "text"
      },
      "source": [
        "<a href=\"https://colab.research.google.com/github/NovrianPratama/MachineLearning/blob/main/2_Operator.ipynb\" target=\"_parent\"><img src=\"https://colab.research.google.com/assets/colab-badge.svg\" alt=\"Open In Colab\"/></a>"
      ]
    },
    {
      "cell_type": "code",
      "execution_count": null,
      "metadata": {
        "id": "ZnOx8osZ2n_p"
      },
      "outputs": [],
      "source": []
    },
    {
      "cell_type": "markdown",
      "source": [
        "# **Operator in Python:**\n",
        "\n",
        "1.  Arithmetic Operators\n",
        "2.   Assignment Operators\n",
        "3. Comparison Operators\n",
        "4. Logical Operators\n",
        "5. Identity Operators\n",
        "6. Membership Operators\n",
        "\n"
      ],
      "metadata": {
        "id": "EVPynqHn2yBq"
      }
    },
    {
      "cell_type": "markdown",
      "source": [
        "# **1. Arithmetic Operators**"
      ],
      "metadata": {
        "id": "3AVKBJeZ3P_x"
      }
    },
    {
      "cell_type": "code",
      "source": [
        "nilai_1 = 5\n",
        "nilai_2 = 2\n",
        "\n",
        "# tambah\n",
        "tambah = nilai_1 + nilai_2\n",
        "print(\"Hasil Tambah \",tambah)\n",
        "\n",
        "# kurang\n",
        "kurang = nilai_1 - nilai_2\n",
        "print(\"Hasil Kurang \",kurang)\n",
        "\n",
        "# kali\n",
        "kali = nilai_1 * nilai_2\n",
        "print(\"Hasil Kali \",kali)\n",
        "\n",
        "# bagi\n",
        "bagi = nilai_1 / nilai_2\n",
        "print(\"Hasil Bagi \",bagi)\n",
        "\n",
        "# pangkat\n",
        "pangkat = nilai_1 ** nilai_2\n",
        "print(\"Hasil Pangkat \",pangkat)\n",
        "\n",
        "# modulus\n",
        "modulus = nilai_1 % nilai_2\n",
        "print(\"Hasil Modulus \",modulus)"
      ],
      "metadata": {
        "colab": {
          "base_uri": "https://localhost:8080/"
        },
        "id": "65_Xy0qu3UFX",
        "outputId": "e1d62f2e-aaa8-411c-e272-0ee0567eea30"
      },
      "execution_count": null,
      "outputs": [
        {
          "output_type": "stream",
          "name": "stdout",
          "text": [
            "Hasil Tambah  7\n",
            "Hasil Kurang  3\n",
            "Hasil Kali  10\n",
            "Hasil Bagi  2.5\n",
            "Hasil Pangkat  25\n",
            "Hasil Modulus  1\n"
          ]
        }
      ]
    },
    {
      "cell_type": "markdown",
      "source": [
        "# **2. Assignment Operators**"
      ],
      "metadata": {
        "id": "M4xSCoGn4C4r"
      }
    },
    {
      "cell_type": "code",
      "source": [
        "a = 5\n",
        "b = 3\n",
        "\n",
        "# tambah\n",
        "a += b\n",
        "print(\"Hasil Tambah \",a)\n",
        "\n",
        "# kurang\n",
        "a -= b\n",
        "print(\"Hasil Kurang \",a)\n",
        "\n",
        "# kali\n",
        "a *= b\n",
        "print(\"Hasil Kali \",a)\n",
        "\n",
        "# bagi\n",
        "a /= b\n",
        "print(\"Hasil Bagi \",a)"
      ],
      "metadata": {
        "colab": {
          "base_uri": "https://localhost:8080/"
        },
        "id": "ToWtxxER4Fmo",
        "outputId": "f0c358f1-0233-4132-b452-5f4a2b2528db"
      },
      "execution_count": null,
      "outputs": [
        {
          "output_type": "stream",
          "name": "stdout",
          "text": [
            "Hasil Tambah  8\n",
            "Hasil Kurang  5\n",
            "Hasil Kali  15\n",
            "Hasil Bagi  5.0\n"
          ]
        }
      ]
    },
    {
      "cell_type": "markdown",
      "source": [
        "# **3. Comparison Operators**"
      ],
      "metadata": {
        "id": "0zrYWWcu4TWA"
      }
    },
    {
      "cell_type": "code",
      "source": [
        "a = 5\n",
        "b = 3\n",
        "\n",
        "# lebih besar\n",
        "lebih_besar = a > b\n",
        "print(\"Apakah a lebih besar dari b? \",lebih_besar)\n",
        "\n",
        "# lebih kecil\n",
        "lebih_kecil = a < b\n",
        "print(\"Apakah a lebih kecil dari b? \",lebih_kecil)\n",
        "\n",
        "# sama dengan\n",
        "sama_dengan = a == b\n",
        "print(\"Apakah a sama dengan b? \",sama_dengan)\n",
        "\n",
        "# tidak sama dengan\n",
        "tidak_sama_dengan = a != b\n",
        "print(\"Apakah a tidak sama dengan b? \",tidak_sama_dengan)\n",
        "\n",
        "print(a <= b)\n",
        "print(a >= b)\n",
        "print(a <= b)"
      ],
      "metadata": {
        "colab": {
          "base_uri": "https://localhost:8080/"
        },
        "id": "M7UD2KJ04X5Q",
        "outputId": "f7b87d8c-9bad-42cf-85c5-f3dcf31bc68a"
      },
      "execution_count": null,
      "outputs": [
        {
          "output_type": "stream",
          "name": "stdout",
          "text": [
            "Apakah a lebih besar dari b?  True\n",
            "Apakah a lebih kecil dari b?  False\n",
            "Apakah a sama dengan b?  False\n",
            "Apakah a tidak sama dengan b?  True\n",
            "False\n",
            "True\n",
            "False\n"
          ]
        }
      ]
    },
    {
      "cell_type": "markdown",
      "source": [
        "# **4. Logical Operators**"
      ],
      "metadata": {
        "id": "CMl5zXa94_nJ"
      }
    },
    {
      "cell_type": "code",
      "source": [
        "# and, or, not\n",
        "\n",
        "a = 5\n",
        "print(a > 3 and a < 10)\n",
        "print(a > 3 or a < 4)\n",
        "print(not(a > 3 or a < 4))"
      ],
      "metadata": {
        "colab": {
          "base_uri": "https://localhost:8080/"
        },
        "id": "9oLCPyxp5Dlg",
        "outputId": "28f744b4-9060-4fed-8bc6-12faa463c587"
      },
      "execution_count": null,
      "outputs": [
        {
          "output_type": "stream",
          "name": "stdout",
          "text": [
            "True\n",
            "True\n",
            "False\n"
          ]
        }
      ]
    },
    {
      "cell_type": "markdown",
      "source": [
        "# **5. Identity Operator**"
      ],
      "metadata": {
        "id": "S6x9i_Da5WbO"
      }
    },
    {
      "cell_type": "code",
      "source": [
        "# is, is not\n",
        "\n",
        "a = 5\n",
        "b = 5\n",
        "\n",
        "print(a is b)\n",
        "print(a is not b)"
      ],
      "metadata": {
        "colab": {
          "base_uri": "https://localhost:8080/"
        },
        "id": "k1rCgz2w5cBj",
        "outputId": "39f6394d-aa5b-4ca6-ba04-497a6817dec1"
      },
      "execution_count": null,
      "outputs": [
        {
          "output_type": "stream",
          "name": "stdout",
          "text": [
            "True\n",
            "False\n"
          ]
        }
      ]
    },
    {
      "cell_type": "code",
      "source": [
        "a = 5\n",
        "b = 10\n",
        "\n",
        "print(a is b)\n",
        "print(a is not b)"
      ],
      "metadata": {
        "colab": {
          "base_uri": "https://localhost:8080/"
        },
        "id": "uOJ237Lv5jwa",
        "outputId": "05a322ce-f3ab-491c-b779-7c8303d1dc59"
      },
      "execution_count": null,
      "outputs": [
        {
          "output_type": "stream",
          "name": "stdout",
          "text": [
            "False\n",
            "True\n"
          ]
        }
      ]
    },
    {
      "cell_type": "markdown",
      "source": [
        "# **6. Memberships Operators**"
      ],
      "metadata": {
        "id": "s4LgMo0n51b1"
      }
    },
    {
      "cell_type": "code",
      "source": [
        "# in, not in\n",
        "\n",
        "a = 5\n",
        "b = 6\n",
        "\n",
        "c = [1,2,3,4,5]\n",
        "\n",
        "print(a in c)\n",
        "print(b in c)\n",
        "\n",
        "# menunjukan hasil apakah angka pada variabel berada pada variabel lainnya."
      ],
      "metadata": {
        "colab": {
          "base_uri": "https://localhost:8080/"
        },
        "id": "SdcIyTET54X8",
        "outputId": "762ba662-564f-4396-9e88-b100470f1d30"
      },
      "execution_count": null,
      "outputs": [
        {
          "output_type": "stream",
          "name": "stdout",
          "text": [
            "True\n",
            "False\n"
          ]
        }
      ]
    },
    {
      "cell_type": "code",
      "source": [],
      "metadata": {
        "id": "BtAFbn-S5_-x"
      },
      "execution_count": null,
      "outputs": []
    }
  ]
}