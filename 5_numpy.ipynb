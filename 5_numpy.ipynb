{
  "nbformat": 4,
  "nbformat_minor": 0,
  "metadata": {
    "colab": {
      "provenance": [],
      "authorship_tag": "ABX9TyMFVwCwBTmVxQD5KUlAN9aQ",
      "include_colab_link": true
    },
    "kernelspec": {
      "name": "python3",
      "display_name": "Python 3"
    },
    "language_info": {
      "name": "python"
    }
  },
  "cells": [
    {
      "cell_type": "markdown",
      "metadata": {
        "id": "view-in-github",
        "colab_type": "text"
      },
      "source": [
        "<a href=\"https://colab.research.google.com/github/NovrianPratama/MachineLearning/blob/main/5_numpy.ipynb\" target=\"_parent\"><img src=\"https://colab.research.google.com/assets/colab-badge.svg\" alt=\"Open In Colab\"/></a>"
      ]
    },
    {
      "cell_type": "markdown",
      "source": [
        "NumPy - Numerical Python\n",
        "\n",
        "Kelebihan dari NumPy:\n",
        "1. dapat digunakan beberapa operasi matematika\n",
        "2. operasi nya cepat"
      ],
      "metadata": {
        "id": "g5T1o82ZvYGz"
      }
    },
    {
      "cell_type": "code",
      "execution_count": null,
      "metadata": {
        "id": "6DPi9yZyvGW8"
      },
      "outputs": [],
      "source": [
        "import numpy as np"
      ]
    },
    {
      "cell_type": "code",
      "source": [
        "from time import process_time"
      ],
      "metadata": {
        "id": "CksUrhv3xdoU"
      },
      "execution_count": null,
      "outputs": []
    },
    {
      "cell_type": "markdown",
      "source": [
        "# List vs NumPy"
      ],
      "metadata": {
        "id": "O_u2WTDlxqTk"
      }
    },
    {
      "cell_type": "code",
      "source": [
        "# menghitung jumlah waktu yang dibutuhkan untuk proses data angka\n",
        "\n",
        "python_list = [i for i in range(10000)]\n",
        "\n",
        "start_time = process_time()\n",
        "\n",
        "python_list = [i+5 for i in python_list]  # bagian ini yaitu mengambil value dari range dan menambahkan 5\n",
        "\n",
        "end_time = process_time()\n",
        "\n",
        "print(end_time - start_time)"
      ],
      "metadata": {
        "colab": {
          "base_uri": "https://localhost:8080/"
        },
        "id": "8IT4jwD2xn31",
        "outputId": "fb3fd663-a3d3-4f0e-8cdc-20f88fb939d1"
      },
      "execution_count": null,
      "outputs": [
        {
          "output_type": "stream",
          "name": "stdout",
          "text": [
            "0.0011728879999997055\n"
          ]
        }
      ]
    },
    {
      "cell_type": "code",
      "source": [
        "# menghitung dengan numpy\n",
        "\n",
        "np_array = np.array([i for i in range(10000)])\n",
        "\n",
        "start_time = process_time()\n",
        "\n",
        "np_array += 5 # menambah value 5 untuk setiap elemen array\n",
        "\n",
        "end_time = process_time()\n",
        "\n",
        "print(end_time - start_time)"
      ],
      "metadata": {
        "colab": {
          "base_uri": "https://localhost:8080/"
        },
        "id": "3PMpo6zdzq1q",
        "outputId": "6dde3e14-b11a-4ca7-fa44-14ada15c8b77"
      },
      "execution_count": null,
      "outputs": [
        {
          "output_type": "stream",
          "name": "stdout",
          "text": [
            "0.0013912509999998157\n"
          ]
        }
      ]
    },
    {
      "cell_type": "markdown",
      "source": [
        "# **Membuat NumPy Array**"
      ],
      "metadata": {
        "id": "2rqDse6VLIDB"
      }
    },
    {
      "cell_type": "code",
      "source": [
        "# contoh array List\n",
        "array_list = [2,3,4,1,2]\n",
        "print(array_list)\n",
        "type(array_list)"
      ],
      "metadata": {
        "colab": {
          "base_uri": "https://localhost:8080/"
        },
        "id": "pYF_hxcr0O9F",
        "outputId": "1c6c7813-d5f0-44ce-ccae-453aae19a891"
      },
      "execution_count": null,
      "outputs": [
        {
          "output_type": "stream",
          "name": "stdout",
          "text": [
            "[2, 3, 4, 1, 2]\n"
          ]
        },
        {
          "output_type": "execute_result",
          "data": {
            "text/plain": [
              "list"
            ]
          },
          "metadata": {},
          "execution_count": 6
        }
      ]
    },
    {
      "cell_type": "code",
      "source": [
        "numpy1 = np.array([3,4,5,2,5])\n",
        "print(numpy1) # numpy array tidak memiliki coma pada angka untuk memisahkannya\n",
        "type(numpy1)"
      ],
      "metadata": {
        "colab": {
          "base_uri": "https://localhost:8080/"
        },
        "id": "SgrpKhetLSLX",
        "outputId": "0f6bd798-9069-4c1b-d8fa-18246735a2ba"
      },
      "execution_count": null,
      "outputs": [
        {
          "output_type": "stream",
          "name": "stdout",
          "text": [
            "[3 4 5 2 5]\n"
          ]
        },
        {
          "output_type": "execute_result",
          "data": {
            "text/plain": [
              "numpy.ndarray"
            ]
          },
          "metadata": {},
          "execution_count": 7
        }
      ]
    },
    {
      "cell_type": "code",
      "source": [
        "# membuat dimesi pada array.\n",
        "a = np.array([3,1,9,5]) # ini merupakan 1 dimensi array\n",
        "print(a)\n",
        "a.shape # menampilkan jumlah baris dan kolom\n",
        "# jika satu dimensi hanya menghasilkan kolom, artinya terdapat 4 kolom outputnya"
      ],
      "metadata": {
        "colab": {
          "base_uri": "https://localhost:8080/"
        },
        "id": "Ug82aJtwLxhw",
        "outputId": "80d471b2-a08b-4102-acea-3a02a86aa091"
      },
      "execution_count": null,
      "outputs": [
        {
          "output_type": "stream",
          "name": "stdout",
          "text": [
            "[3 1 9 5]\n"
          ]
        },
        {
          "output_type": "execute_result",
          "data": {
            "text/plain": [
              "(4,)"
            ]
          },
          "metadata": {},
          "execution_count": 13
        }
      ]
    },
    {
      "cell_type": "code",
      "source": [
        "# membuat 2 dimensi pada array\n",
        "arr_2 = np.array([(1,2,4,2),(3,1,9,4)])\n",
        "print(arr_2)\n",
        "arr_2.shape # menampilkan jumlah baris dan kolom\n",
        "# terdapat  2 baris dan 4 kolom"
      ],
      "metadata": {
        "colab": {
          "base_uri": "https://localhost:8080/"
        },
        "id": "nHX_LtZHMkdN",
        "outputId": "8817dc8e-5ea5-4142-e36a-898a936db709"
      },
      "execution_count": null,
      "outputs": [
        {
          "output_type": "stream",
          "name": "stdout",
          "text": [
            "[[1 2 4 2]\n",
            " [3 1 9 4]]\n"
          ]
        },
        {
          "output_type": "execute_result",
          "data": {
            "text/plain": [
              "(2, 4)"
            ]
          },
          "metadata": {},
          "execution_count": 12
        }
      ]
    },
    {
      "cell_type": "code",
      "source": [
        "# menambahkan data type pada array\n",
        "\n",
        "arr_type = np.array([(2,4,2,6),(4,2,3,2)],dtype=float) # menggati type data, terdapat titik jika menggunakan float\n",
        "# jumlah array tiap dimensi harus sama tidak boleh dimensi 1 ada 4 kolom dan dimensi 2 ada 3 kolom\n",
        "print(arr_type)"
      ],
      "metadata": {
        "colab": {
          "base_uri": "https://localhost:8080/"
        },
        "id": "Rx_tbAHB4N0o",
        "outputId": "2da152d4-e7ec-4b3f-f868-187b46472730"
      },
      "execution_count": null,
      "outputs": [
        {
          "output_type": "stream",
          "name": "stdout",
          "text": [
            "[[2. 4. 2. 6.]\n",
            " [4. 2. 3. 2.]]\n"
          ]
        }
      ]
    },
    {
      "cell_type": "markdown",
      "source": [
        "# **Initial Placeholders in Numpy Arrays**"
      ],
      "metadata": {
        "id": "Cz29vRS25y4B"
      }
    },
    {
      "cell_type": "code",
      "source": [
        "# membuat numpy array dengan angka nol\n",
        "\n",
        "zero = np.zeros((4,5)) # tulis kurung lagi saat ingin memasukkan jumlah baris dan kolom\n",
        "print(zero)\n",
        "zero.shape # menampilkan jumlah baris dan kolom"
      ],
      "metadata": {
        "colab": {
          "base_uri": "https://localhost:8080/"
        },
        "id": "VxOoV5it5Gr-",
        "outputId": "ccca9b45-fc71-4dfb-d346-1846fa4668e8"
      },
      "execution_count": null,
      "outputs": [
        {
          "output_type": "stream",
          "name": "stdout",
          "text": [
            "[[0. 0. 0. 0. 0.]\n",
            " [0. 0. 0. 0. 0.]\n",
            " [0. 0. 0. 0. 0.]\n",
            " [0. 0. 0. 0. 0.]]\n"
          ]
        },
        {
          "output_type": "execute_result",
          "data": {
            "text/plain": [
              "(4, 5)"
            ]
          },
          "metadata": {},
          "execution_count": 23
        }
      ]
    },
    {
      "cell_type": "code",
      "source": [
        "arr_one = np.ones((3,5)) # membuat array dengan nilai 1 secara otomatis dengan mamasukkan jumlah baris dan kolom\n",
        "print(arr_one)\n",
        "arr_one.shape # menampilkan jumlah baris dan kolom"
      ],
      "metadata": {
        "colab": {
          "base_uri": "https://localhost:8080/"
        },
        "id": "Wfcf4VS-6OW9",
        "outputId": "3ed0b118-a29d-4cb7-ae00-f9629fe93a42"
      },
      "execution_count": null,
      "outputs": [
        {
          "output_type": "stream",
          "name": "stdout",
          "text": [
            "[[1. 1. 1. 1. 1.]\n",
            " [1. 1. 1. 1. 1.]\n",
            " [1. 1. 1. 1. 1.]]\n"
          ]
        },
        {
          "output_type": "execute_result",
          "data": {
            "text/plain": [
              "(3, 5)"
            ]
          },
          "metadata": {},
          "execution_count": 24
        }
      ]
    },
    {
      "cell_type": "markdown",
      "source": [],
      "metadata": {
        "id": "HtrBgX2Q66AE"
      }
    },
    {
      "cell_type": "code",
      "source": [
        "arr_full = np.full((3,2),3) # membuat array dengan nilai yang ditentukan secara otomatis\n",
        "# tulis jumlah baris dan kolom (), baru masukkan angka array yang diinginkan\n",
        "print(arr_full)\n",
        "arr_full.shape # menampilkan jumlah baris dan kolom"
      ],
      "metadata": {
        "colab": {
          "base_uri": "https://localhost:8080/"
        },
        "id": "yoHDweqL6h6R",
        "outputId": "064b0ff0-8c05-4e4a-9c17-bcba8ee107bf"
      },
      "execution_count": null,
      "outputs": [
        {
          "output_type": "stream",
          "name": "stdout",
          "text": [
            "[[3 3]\n",
            " [3 3]\n",
            " [3 3]]\n"
          ]
        },
        {
          "output_type": "execute_result",
          "data": {
            "text/plain": [
              "(3, 2)"
            ]
          },
          "metadata": {},
          "execution_count": 29
        }
      ]
    },
    {
      "cell_type": "markdown",
      "source": [
        "# **Identity Matrix**"
      ],
      "metadata": {
        "id": "PlsBbmA78FvZ"
      }
    },
    {
      "cell_type": "code",
      "source": [
        "# 1. membuat identity matrix\n",
        "arr_id = np.eye(5) # memasukkan jumlah baris dan kolom\n",
        "# eye digunakan untuk membuat array nilai 1 diagonal\n",
        "print(arr_id)"
      ],
      "metadata": {
        "colab": {
          "base_uri": "https://localhost:8080/"
        },
        "id": "K4PzwGub6rsW",
        "outputId": "2e5adaae-8627-42d9-9d75-011f6e77876a"
      },
      "execution_count": null,
      "outputs": [
        {
          "output_type": "stream",
          "name": "stdout",
          "text": [
            "[[1. 0. 0. 0. 0.]\n",
            " [0. 1. 0. 0. 0.]\n",
            " [0. 0. 1. 0. 0.]\n",
            " [0. 0. 0. 1. 0.]\n",
            " [0. 0. 0. 0. 1.]]\n"
          ]
        }
      ]
    },
    {
      "cell_type": "code",
      "source": [
        "# membuat random values array\n",
        "arr_random = np.random.random((2,6)) # memasukkan jumlah baris dan kolom\n",
        "# fungsi random yaitu membuat angka array acak dengan angka diantara 0 sampai 1\n",
        "print(arr_random)"
      ],
      "metadata": {
        "colab": {
          "base_uri": "https://localhost:8080/"
        },
        "id": "G7yPIGDm8fHj",
        "outputId": "b91a8e31-4b5c-40e0-9761-dcb7d3f6274a"
      },
      "execution_count": null,
      "outputs": [
        {
          "output_type": "stream",
          "name": "stdout",
          "text": [
            "[[0.26462062 0.13447727 0.62121971 0.4387305  0.42942875 0.01605336]\n",
            " [0.32535662 0.16521486 0.26381038 0.46765595 0.67882054 0.72431475]]\n"
          ]
        }
      ]
    },
    {
      "cell_type": "code",
      "source": [
        "# membuat random integer values array\n",
        "# menggunakan randint (random integer)= untuk membuat array random integer\n",
        "arr_int = np.random.randint(1,20,(4,5))\n",
        "# parameter randint = (angka terkecil, batas angka terbesar, (baris, kolom))\n",
        "print(arr_int)"
      ],
      "metadata": {
        "colab": {
          "base_uri": "https://localhost:8080/"
        },
        "id": "RUfUZqRl853A",
        "outputId": "bac50a0d-0e80-4684-b2d8-808348a4254b"
      },
      "execution_count": null,
      "outputs": [
        {
          "output_type": "stream",
          "name": "stdout",
          "text": [
            "[[ 4  2 18 19 10]\n",
            " [ 3  6  8  1 16]\n",
            " [17 13  3 13  9]\n",
            " [ 4 11 18 13 16]]\n"
          ]
        }
      ]
    },
    {
      "cell_type": "markdown",
      "source": [
        "# **Array of evenly space values**"
      ],
      "metadata": {
        "id": "MY6pCzou_IcN"
      }
    },
    {
      "cell_type": "code",
      "source": [
        "# array of evenly space values -> fokus pada value yang diminta\n",
        "arr_val = np.linspace(10,30,5) # (start,stop,value)\n",
        "print(arr_val)\n",
        "# hasilnya bertipe float, akan fokus pada value yg diminta yaitu 5"
      ],
      "metadata": {
        "colab": {
          "base_uri": "https://localhost:8080/"
        },
        "id": "xZl1FI989ZTW",
        "outputId": "359333bb-c4db-4929-ecb5-120c74351060"
      },
      "execution_count": null,
      "outputs": [
        {
          "output_type": "stream",
          "name": "stdout",
          "text": [
            "[10. 15. 20. 25. 30.]\n"
          ]
        }
      ]
    },
    {
      "cell_type": "code",
      "source": [
        "# array mengikuti jumlah step\n",
        "'''\n",
        "hasil valuenya akan mengikuti step yang diminta\n",
        "misal mulai dari 5 maka angka setelahnya yaitu 10, karena step/langkah 5\n",
        "unutk angka selanjutnya adalah 5+5=10\n",
        "karena batasnya 30 dan langkah akhir 30 maka angka terakhir tidak ditulis 30, itu batasnya\n",
        "'''\n",
        "arr_step = np.arange(5,1000,5) # (start,stop,step)\n",
        "print(arr_step)\n"
      ],
      "metadata": {
        "colab": {
          "base_uri": "https://localhost:8080/"
        },
        "id": "5523n1aN_eyb",
        "outputId": "4751aaa0-6bd7-4f73-c504-3f153a12a66d"
      },
      "execution_count": null,
      "outputs": [
        {
          "output_type": "stream",
          "name": "stdout",
          "text": [
            "[  5  10  15  20  25  30  35  40  45  50  55  60  65  70  75  80  85  90\n",
            "  95 100 105 110 115 120 125 130 135 140 145 150 155 160 165 170 175 180\n",
            " 185 190 195 200 205 210 215 220 225 230 235 240 245 250 255 260 265 270\n",
            " 275 280 285 290 295 300 305 310 315 320 325 330 335 340 345 350 355 360\n",
            " 365 370 375 380 385 390 395 400 405 410 415 420 425 430 435 440 445 450\n",
            " 455 460 465 470 475 480 485 490 495 500 505 510 515 520 525 530 535 540\n",
            " 545 550 555 560 565 570 575 580 585 590 595 600 605 610 615 620 625 630\n",
            " 635 640 645 650 655 660 665 670 675 680 685 690 695 700 705 710 715 720\n",
            " 725 730 735 740 745 750 755 760 765 770 775 780 785 790 795 800 805 810\n",
            " 815 820 825 830 835 840 845 850 855 860 865 870 875 880 885 890 895 900\n",
            " 905 910 915 920 925 930 935 940 945 950 955 960 965 970 975 980 985 990\n",
            " 995]\n"
          ]
        }
      ]
    },
    {
      "cell_type": "code",
      "source": [
        "# list to numpy array\n",
        "\n",
        "list_con = [3,5,2,6,12]\n",
        "\n",
        "arr_convert = np.asarray(list_con)\n",
        "print(arr_convert)\n",
        "type(arr_convert)\n",
        "\n",
        "# saat diconvert maka koma diantara angka akan hilang"
      ],
      "metadata": {
        "colab": {
          "base_uri": "https://localhost:8080/"
        },
        "id": "Vyb4ktlYAIEe",
        "outputId": "0eb1af6a-d442-4d27-a40b-18af2bd88774"
      },
      "execution_count": null,
      "outputs": [
        {
          "output_type": "stream",
          "name": "stdout",
          "text": [
            "[ 3  5  2  6 12]\n"
          ]
        },
        {
          "output_type": "execute_result",
          "data": {
            "text/plain": [
              "numpy.ndarray"
            ]
          },
          "metadata": {},
          "execution_count": 44
        }
      ]
    },
    {
      "cell_type": "markdown",
      "source": [
        "# **Analyst Numpy Array**"
      ],
      "metadata": {
        "id": "ategQJ-wBSEs"
      }
    },
    {
      "cell_type": "code",
      "source": [
        "# membuat random integer\n",
        "\n",
        "arr_value = np.random.randint(10,100,(5,5))\n",
        "print(arr_value)"
      ],
      "metadata": {
        "colab": {
          "base_uri": "https://localhost:8080/"
        },
        "id": "pugEp-wMBFK7",
        "outputId": "07996ada-65eb-472c-f46f-911efa2d811a"
      },
      "execution_count": null,
      "outputs": [
        {
          "output_type": "stream",
          "name": "stdout",
          "text": [
            "[[41 79 71 73 74]\n",
            " [17 89 51 81 69]\n",
            " [84 67 82 94 31]\n",
            " [12 84 14 95 68]\n",
            " [84 61 17 60 30]]\n"
          ]
        }
      ]
    },
    {
      "cell_type": "code",
      "source": [
        "# array of Dimension\n",
        "print(arr_value.shape)\n",
        "\n",
        "# ini untuk melihat baris dan kolom pada array atau sebutannya dimensi"
      ],
      "metadata": {
        "colab": {
          "base_uri": "https://localhost:8080/"
        },
        "id": "crrRChkuNjmQ",
        "outputId": "de157211-17c2-41f1-aec2-551e479c471e"
      },
      "execution_count": null,
      "outputs": [
        {
          "output_type": "stream",
          "name": "stdout",
          "text": [
            "(5, 5)\n"
          ]
        }
      ]
    },
    {
      "cell_type": "code",
      "source": [
        "# number of dimension - >mengacu pada jumlah axes atau tingkat dimensi dalam array\n",
        "print(arr_value.ndim)\n",
        "\n",
        "# ini untuk melihat jumlah dimensi pada array"
      ],
      "metadata": {
        "colab": {
          "base_uri": "https://localhost:8080/"
        },
        "id": "ZWiqWZH6N9ev",
        "outputId": "f176e527-9cb9-401c-f6d2-457b15b901ae"
      },
      "execution_count": null,
      "outputs": [
        {
          "output_type": "stream",
          "name": "stdout",
          "text": [
            "2\n"
          ]
        }
      ]
    },
    {
      "cell_type": "code",
      "source": [
        "# jumlah elemen pada array\n",
        "print(arr_value.size)\n",
        "\n",
        "# ini untuk melihat jumlah elemen pada array\n",
        "# hasilnya 25 karena memiliki 5 baris dan 5 kolom artinya 5x5"
      ],
      "metadata": {
        "colab": {
          "base_uri": "https://localhost:8080/"
        },
        "id": "kOxlKa9oOMBU",
        "outputId": "e378b56e-0111-428b-b67e-ddb9e4c24461"
      },
      "execution_count": null,
      "outputs": [
        {
          "output_type": "stream",
          "name": "stdout",
          "text": [
            "25\n"
          ]
        }
      ]
    },
    {
      "cell_type": "code",
      "source": [
        "# melihat tipe data array\n",
        "print(arr_value.dtype)\n",
        "\n",
        "# int64 = tipe data integer dan 64 artinya bit windows"
      ],
      "metadata": {
        "colab": {
          "base_uri": "https://localhost:8080/"
        },
        "id": "6A-hWC3HOcEY",
        "outputId": "48f7bc73-19c1-40ea-a65a-b03c4c5f3ed6"
      },
      "execution_count": null,
      "outputs": [
        {
          "output_type": "stream",
          "name": "stdout",
          "text": [
            "int64\n"
          ]
        }
      ]
    },
    {
      "cell_type": "markdown",
      "source": [
        "# **Mathematical Operations On a np array**"
      ],
      "metadata": {
        "id": "O7DoI07MQZA2"
      }
    },
    {
      "cell_type": "code",
      "source": [
        "# menggabungkan 2 list tanpa numpy\n",
        "list1 = [1,2,3,4,5]\n",
        "list2 = [6,7,8,9,10]\n",
        "\n",
        "print(list1 + list2)\n",
        "'''\n",
        "operasi + harusnya digunakan untuk menambahkan saling menambahkan value masing2 list\n",
        "tapi penggunaan + menggabungkan 2 list istilahnya concante atau join\n",
        "'''"
      ],
      "metadata": {
        "colab": {
          "base_uri": "https://localhost:8080/"
        },
        "id": "YcDnsBu4OlWX",
        "outputId": "14563d18-bb05-4d42-b5bd-958f116be1e8"
      },
      "execution_count": null,
      "outputs": [
        {
          "output_type": "stream",
          "name": "stdout",
          "text": [
            "[1, 2, 3, 4, 5, 6, 7, 8, 9, 10]\n"
          ]
        }
      ]
    },
    {
      "cell_type": "markdown",
      "source": [
        "Operasi pada list"
      ],
      "metadata": {
        "id": "i9BmQtfcRHt1"
      }
    },
    {
      "cell_type": "code",
      "source": [
        "arr_opr1 = np.random.randint(1,10,(4,4))\n",
        "arr_opr2 = np.random.randint(1,10,(4,4))\n",
        "\n",
        "print(arr_opr1)\n",
        "print(\"\\n\")\n",
        "print(arr_opr2)"
      ],
      "metadata": {
        "colab": {
          "base_uri": "https://localhost:8080/"
        },
        "id": "qZz6u7oNQsyG",
        "outputId": "48e6e1df-f019-4217-c6bd-b7c713949e4d"
      },
      "execution_count": null,
      "outputs": [
        {
          "output_type": "stream",
          "name": "stdout",
          "text": [
            "[[5 8 1 6]\n",
            " [9 9 4 7]\n",
            " [8 9 7 3]\n",
            " [6 5 1 9]]\n",
            "\n",
            "\n",
            "[[2 2 1 2]\n",
            " [6 3 3 4]\n",
            " [6 6 8 7]\n",
            " [6 2 4 3]]\n"
          ]
        }
      ]
    },
    {
      "cell_type": "code",
      "source": [
        "# operasi dibawah ini akan digunakan untuk melakukan penjumlahan pada array 1 dan 2\n",
        "# penjumlahan tiap masing2 index array 1 dan array 2\n",
        "print(\"\\n tambah\")\n",
        "print(arr_opr1 + arr_opr2)\n",
        "print(\"\\n kurang\")\n",
        "print(arr_opr1 - arr_opr2)\n",
        "print(\"\\n kali\")\n",
        "print(arr_opr1 * arr_opr2)\n",
        "print(\"\\n bagi\")\n",
        "print(arr_opr1 / arr_opr2)"
      ],
      "metadata": {
        "colab": {
          "base_uri": "https://localhost:8080/"
        },
        "id": "SqD_7UP3RaZ_",
        "outputId": "43edfc5a-7214-4369-a975-5b758af3989d"
      },
      "execution_count": null,
      "outputs": [
        {
          "output_type": "stream",
          "name": "stdout",
          "text": [
            "\n",
            " tambah\n",
            "[[ 7 10  2  8]\n",
            " [15 12  7 11]\n",
            " [14 15 15 10]\n",
            " [12  7  5 12]]\n",
            "\n",
            " kurang\n",
            "[[ 3  6  0  4]\n",
            " [ 3  6  1  3]\n",
            " [ 2  3 -1 -4]\n",
            " [ 0  3 -3  6]]\n",
            "\n",
            " kali\n",
            "[[10 16  1 12]\n",
            " [54 27 12 28]\n",
            " [48 54 56 21]\n",
            " [36 10  4 27]]\n",
            "\n",
            " bagi\n",
            "[[2.5        4.         1.         3.        ]\n",
            " [1.5        3.         1.33333333 1.75      ]\n",
            " [1.33333333 1.5        0.875      0.42857143]\n",
            " [1.         2.5        0.25       3.        ]]\n"
          ]
        }
      ]
    },
    {
      "cell_type": "code",
      "source": [
        "# operasi mtk menggunakan np\n",
        "\n",
        "arr_opr1 = np.random.randint(2,12,(4,4))\n",
        "arr_opr2 = np.random.randint(1,10,(4,4))\n",
        "\n",
        "print(arr_opr1)\n",
        "print(\"\\n\")\n",
        "print(arr_opr2)"
      ],
      "metadata": {
        "colab": {
          "base_uri": "https://localhost:8080/"
        },
        "id": "2XTQqez3Rfwz",
        "outputId": "ed40f4c5-83ac-4c45-8786-9c3f106320d9"
      },
      "execution_count": null,
      "outputs": [
        {
          "output_type": "stream",
          "name": "stdout",
          "text": [
            "[[ 6  2 10  8]\n",
            " [ 5  2  2 10]\n",
            " [10  3  3  7]\n",
            " [10  2 11 10]]\n",
            "\n",
            "\n",
            "[[6 2 3 7]\n",
            " [9 8 4 9]\n",
            " [9 6 8 1]\n",
            " [6 5 5 6]]\n"
          ]
        }
      ]
    },
    {
      "cell_type": "code",
      "source": [
        "# pengganti operasi mtk +-*/ , menggunakan numpy\n",
        "\n",
        "print(\"\\n tambah\")\n",
        "print(np.add(arr_opr1,arr_opr2))\n",
        "print(\"\\n kurang\")\n",
        "print(np.subtract(arr_opr1,arr_opr2))\n",
        "print(\"\\n kali\")\n",
        "print(np.multiply(arr_opr1,arr_opr2))\n",
        "print(\"\\n bagi\")\n",
        "print(np.divide(arr_opr1,arr_opr2))"
      ],
      "metadata": {
        "colab": {
          "base_uri": "https://localhost:8080/"
        },
        "id": "oqYWaaPvSh1j",
        "outputId": "1886fcbb-00b0-4aca-d14d-35cff0dfc4a4"
      },
      "execution_count": null,
      "outputs": [
        {
          "output_type": "stream",
          "name": "stdout",
          "text": [
            "\n",
            " tambah\n",
            "[[12  4 13 15]\n",
            " [14 10  6 19]\n",
            " [19  9 11  8]\n",
            " [16  7 16 16]]\n",
            "\n",
            " kurang\n",
            "[[ 0  0  7  1]\n",
            " [-4 -6 -2  1]\n",
            " [ 1 -3 -5  6]\n",
            " [ 4 -3  6  4]]\n",
            "\n",
            " kali\n",
            "[[36  4 30 56]\n",
            " [45 16  8 90]\n",
            " [90 18 24  7]\n",
            " [60 10 55 60]]\n",
            "\n",
            " bagi\n",
            "[[1.         1.         3.33333333 1.14285714]\n",
            " [0.55555556 0.25       0.5        1.11111111]\n",
            " [1.11111111 0.5        0.375      7.        ]\n",
            " [1.66666667 0.4        2.2        1.66666667]]\n"
          ]
        }
      ]
    },
    {
      "cell_type": "markdown",
      "source": [
        "# **Array Manipulation**"
      ],
      "metadata": {
        "id": "hCOcTl4gdTN5"
      }
    },
    {
      "cell_type": "markdown",
      "source": [
        "1. Transpose"
      ],
      "metadata": {
        "id": "PWY0JPZXdb2e"
      }
    },
    {
      "cell_type": "code",
      "source": [
        "# membuat transpose\n",
        "arr_tr = np.random.randint(1,10,(3,4))\n",
        "print(arr_tr)\n",
        "print(arr_tr.shape)"
      ],
      "metadata": {
        "colab": {
          "base_uri": "https://localhost:8080/"
        },
        "id": "7fx6Cj91TAsO",
        "outputId": "91e8d6a5-611b-478f-9335-38c099fe5cb7"
      },
      "execution_count": null,
      "outputs": [
        {
          "output_type": "stream",
          "name": "stdout",
          "text": [
            "[[8 3 7 2]\n",
            " [3 7 2 5]\n",
            " [3 5 7 9]]\n",
            "(3, 4)\n"
          ]
        }
      ]
    },
    {
      "cell_type": "code",
      "source": [
        "# cara pertama transpose menggunakan np.transpose\n",
        "'''\n",
        "transpose yaitu membalikkan baris menjadi kolom dan kolom menjadi baris\n",
        "Menggunakan fungsi transpose untuk melakukannya\n",
        "'''\n",
        "trans1 = np.transpose(arr_tr)\n",
        "print(trans1)\n",
        "print(trans1.shape)"
      ],
      "metadata": {
        "colab": {
          "base_uri": "https://localhost:8080/"
        },
        "id": "njB4iB2kdlkH",
        "outputId": "72aacc57-8268-4997-a3a3-dc71db3c112b"
      },
      "execution_count": null,
      "outputs": [
        {
          "output_type": "stream",
          "name": "stdout",
          "text": [
            "[[8 3 3]\n",
            " [3 7 5]\n",
            " [7 2 7]\n",
            " [2 5 9]]\n",
            "(4, 3)\n"
          ]
        }
      ]
    },
    {
      "cell_type": "code",
      "source": [
        "arr_tr = np.random.randint(1,10,(3,4))\n",
        "print(arr_tr)\n",
        "print(arr_tr.shape)"
      ],
      "metadata": {
        "colab": {
          "base_uri": "https://localhost:8080/"
        },
        "id": "8sGm6I34dwJ-",
        "outputId": "f2e4a46a-ab1b-4d96-a255-57fcf2d6179a"
      },
      "execution_count": null,
      "outputs": [
        {
          "output_type": "stream",
          "name": "stdout",
          "text": [
            "[[2 7 6 2]\n",
            " [3 6 4 6]\n",
            " [2 8 8 1]]\n",
            "(3, 4)\n"
          ]
        }
      ]
    },
    {
      "cell_type": "code",
      "source": [
        "# cara kedua transpose menggunakan np.T\n",
        "trans1 = arr_tr.T\n",
        "print(trans1)\n",
        "print(trans1.shape)"
      ],
      "metadata": {
        "colab": {
          "base_uri": "https://localhost:8080/"
        },
        "id": "4Jsepq3deEUo",
        "outputId": "53f28736-09ff-4256-9a54-d9ea469a35b1"
      },
      "execution_count": null,
      "outputs": [
        {
          "output_type": "stream",
          "name": "stdout",
          "text": [
            "[[2 3 2]\n",
            " [7 6 8]\n",
            " [6 4 8]\n",
            " [2 6 1]]\n",
            "(4, 3)\n"
          ]
        }
      ]
    },
    {
      "cell_type": "markdown",
      "source": [
        "2. Reshape / mengubah bentuk array"
      ],
      "metadata": {
        "id": "H50EwkLIebIS"
      }
    },
    {
      "cell_type": "code",
      "source": [
        "x = np.random.randint(1,8,(2,3))\n",
        "print(x)\n",
        "print(x.shape)"
      ],
      "metadata": {
        "colab": {
          "base_uri": "https://localhost:8080/"
        },
        "id": "bzFwZyYWeIo4",
        "outputId": "d2703785-7680-482e-a2ca-5a159253d09b"
      },
      "execution_count": null,
      "outputs": [
        {
          "output_type": "stream",
          "name": "stdout",
          "text": [
            "[[4 3 7]\n",
            " [7 6 2]]\n",
            "(2, 3)\n"
          ]
        }
      ]
    },
    {
      "cell_type": "code",
      "source": [
        "# reshape\n",
        "'''\n",
        "Merubah bentuk array kurang lebih sama dengan transpose\n",
        "masukkan shape baru setelah fungsi reshape (baris, kolom)\n",
        "'''\n",
        "y = x.reshape(3,2)\n",
        "print(y)\n",
        "print(y.shape)"
      ],
      "metadata": {
        "colab": {
          "base_uri": "https://localhost:8080/"
        },
        "id": "BIEtGuoPeXUT",
        "outputId": "41ff7b03-893d-4d5e-ee1a-bc8ccd4cca96"
      },
      "execution_count": null,
      "outputs": [
        {
          "output_type": "stream",
          "name": "stdout",
          "text": [
            "[[7 6]\n",
            " [4 2]\n",
            " [3 4]]\n",
            "(3, 2)\n"
          ]
        }
      ]
    },
    {
      "cell_type": "code",
      "source": [],
      "metadata": {
        "id": "w3cN1V8DehqZ"
      },
      "execution_count": null,
      "outputs": []
    }
  ]
}