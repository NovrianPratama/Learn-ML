{
  "nbformat": 4,
  "nbformat_minor": 0,
  "metadata": {
    "colab": {
      "provenance": [],
      "authorship_tag": "ABX9TyOevn28snnt5HnCAH5oOtpq",
      "include_colab_link": true
    },
    "kernelspec": {
      "name": "python3",
      "display_name": "Python 3"
    },
    "language_info": {
      "name": "python"
    }
  },
  "cells": [
    {
      "cell_type": "markdown",
      "metadata": {
        "id": "view-in-github",
        "colab_type": "text"
      },
      "source": [
        "<a href=\"https://colab.research.google.com/github/NovrianPratama/MachineLearning/blob/main/Overfitting_Underfitting.ipynb\" target=\"_parent\"><img src=\"https://colab.research.google.com/assets/colab-badge.svg\" alt=\"Open In Colab\"/></a>"
      ]
    },
    {
      "cell_type": "markdown",
      "source": [
        "# **Latihan Studi Kasus: Overfitting & Underfitting**"
      ],
      "metadata": {
        "id": "evJcoPQDqXJO"
      }
    },
    {
      "cell_type": "code",
      "execution_count": 1,
      "metadata": {
        "id": "Jf9OE1-D2GIs"
      },
      "outputs": [],
      "source": [
        "import pandas as pd\n",
        "import numpy as np\n",
        "import matplotlib.pyplot as plt\n",
        "from sklearn.datasets import fetch_california_housing\n",
        "from sklearn.model_selection import train_test_split, cross_val_score, learning_curve\n",
        "from sklearn.preprocessing import StandardScaler\n",
        "from sklearn.tree import DecisionTreeRegressor\n",
        "from sklearn.metrics import mean_squared_error"
      ]
    },
    {
      "cell_type": "code",
      "source": [
        "# Import Data California\n",
        "data = fetch_california_housing()\n",
        "X = pd.DataFrame(data.data, columns=data.feature_names)\n",
        "y = pd.Series(data.target)\n",
        "\n",
        "# normalisasi data\n",
        "scaler = StandardScaler()\n",
        "X_scaler = scaler.fit_transform(X)\n",
        "\n",
        "# Membagi data train and validation\n",
        "X_train, X_test, y_train, y_test = train_test_split(X_scaler, y, test_size=0.3, random_state=42)\n"
      ],
      "metadata": {
        "id": "cAcy76drrMsk"
      },
      "execution_count": 2,
      "outputs": []
    },
    {
      "cell_type": "code",
      "source": [
        "# inisialisasi model DecisionTree\n",
        "model = DecisionTreeRegressor(max_depth=50, random_state=42)\n",
        "\n",
        "# melatih model\n",
        "model.fit(X_train, y_train)\n",
        "\n",
        "# Melatih data testing\n",
        "y_train_pred = model.predict(X_train)\n",
        "y_test_pred = model.predict(X_test)"
      ],
      "metadata": {
        "id": "8dy2i7i5sJa1"
      },
      "execution_count": 8,
      "outputs": []
    },
    {
      "cell_type": "markdown",
      "source": [
        "# Medeteksi Overfitting\n",
        "\n",
        "Untuk mendeteksi overfitting, kita perlu membandingkan performa model pada data latih dan data uji."
      ],
      "metadata": {
        "id": "4rqdDyNktFPW"
      }
    },
    {
      "cell_type": "code",
      "source": [
        "# Evaluasi performa data train dan testing\n",
        "train_mse = mean_squared_error(y_train, y_train_pred)\n",
        "test_mse = mean_squared_error(y_test, y_test_pred)\n",
        "\n",
        "# melihat hasil evaluasi\n",
        "print(f\"MSE pada data Train: {train_mse}\")\n",
        "print(f\"MSE pada data Test: {test_mse}\")"
      ],
      "metadata": {
        "colab": {
          "base_uri": "https://localhost:8080/"
        },
        "id": "8hNytq6Hs2Uv",
        "outputId": "7389588f-7e92-45b1-814a-5d5e44e6faa6"
      },
      "execution_count": 4,
      "outputs": [
        {
          "output_type": "stream",
          "name": "stdout",
          "text": [
            "MSE pada data Train: 9.904697258622977e-32\n",
            "MSE pada data Test: 0.5265727720164728\n"
          ]
        }
      ]
    },
    {
      "cell_type": "markdown",
      "source": [
        "## Learning Curve"
      ],
      "metadata": {
        "id": "X8XkDgQhvWd6"
      }
    },
    {
      "cell_type": "code",
      "source": [
        "# Menghitung Learning Curve\n",
        "train_sizes, train_scores, test_scores = learning_curve(model, X_train, y_train, cv=5, scoring='neg_mean_squared_error', n_jobs=-1)\n",
        "\n",
        "# Menghitung Rata-rata dan Standar Deviasi\n",
        "train_mean = -np.mean(train_scores, axis=1)\n",
        "test_mean = -np.mean(test_scores, axis=1)\n",
        "\n",
        "# Plot Learning Curve\n",
        "plt.plot(train_sizes, train_mean, 'o-', color='blue', label='Training Error')\n",
        "plt.plot(train_sizes, test_mean, 'o-', color='green', label='Validation Error')\n",
        "plt.title('Learning Curve')\n",
        "plt.xlabel('Training Set Size')\n",
        "plt.ylabel('MSE')\n",
        "plt.legend()\n",
        "plt.show()"
      ],
      "metadata": {
        "colab": {
          "base_uri": "https://localhost:8080/",
          "height": 472
        },
        "id": "3MNWDUn8s96R",
        "outputId": "5116aa48-f540-4e17-9598-4c76faf88ac7"
      },
      "execution_count": 5,
      "outputs": [
        {
          "output_type": "display_data",
          "data": {
            "text/plain": [
              "<Figure size 640x480 with 1 Axes>"
            ],
            "image/png": "[encoded data removed]"
          },
          "metadata": {}
        }
      ]
    },
    {
      "cell_type": "markdown",
      "source": [
        "Pada gambar di atas, dapat kita lihat bahwa learning curve menunjukkan jarak yang sangat jauh antara training error dan cross-validation error, hal ini memberikan indikasi jelas bahwa terjadi overfitting"
      ],
      "metadata": {
        "id": "RJYCRNGGyctW"
      }
    },
    {
      "cell_type": "markdown",
      "source": [
        "## **1. Mengatasi Overfitting dengan Cross Validation**\n",
        "\n",
        "Mengukur seberapa baik model dapat menggeneralisasi ke data baru dengan membagi data menjadi beberapa subset untuk pelatihan dan pengujian bergantian.\n",
        "\n",
        "\n",
        "\n"
      ],
      "metadata": {
        "id": "C3TNj8hsygYy"
      }
    },
    {
      "cell_type": "code",
      "source": [
        "# inisialisasi cross validation\n",
        "cross_val = cross_val_score(model, X_train, y_train, cv=5, scoring='neg_mean_squared_error')\n",
        "\n",
        "# Menapilkan hasil cross validation\n",
        "print(f'Nilai Cross Validaiton MSE: {-cross_val.mean()}')"
      ],
      "metadata": {
        "colab": {
          "base_uri": "https://localhost:8080/"
        },
        "id": "Lh47HARJxHQp",
        "outputId": "1bc8ef4a-014b-4022-dcc9-12f9ecff198d"
      },
      "execution_count": 6,
      "outputs": [
        {
          "output_type": "stream",
          "name": "stdout",
          "text": [
            "Nilai Cross Validaiton MSE: 0.5563505679371618\n"
          ]
        }
      ]
    },
    {
      "cell_type": "markdown",
      "source": [
        " hasil Cross-Validation MSE sebesar 0.556 didapatkan. Sebelumnya, model menunjukkan hasil Training MSE yang sangat kecil, yaitu 9.90 × 10⁻³² dan Test MSE sebesar 0.526. Hasil ini menunjukkan bahwa sebelum cross-validation, model mengalami overfitting"
      ],
      "metadata": {
        "id": "4y8LzL051K-t"
      }
    },
    {
      "cell_type": "markdown",
      "source": [
        "## 2. Regularization (Max Depth, Min Samples Split, Min Samples Leaf)"
      ],
      "metadata": {
        "id": "UnSek_Tj1I3g"
      }
    },
    {
      "cell_type": "code",
      "source": [
        "# membuat model dengan max_depth yang lebih rendah\n",
        "model_reg = DecisionTreeRegressor(max_depth=5, random_state=42)\n",
        "model_reg.fit(X_train, y_train)\n",
        "\n",
        "# Evaluasi pada data latih\n",
        "y_train_pred_reg = model_reg.predict(X_train)\n",
        "y_test_pred_reg = model_reg.predict(X_test)\n",
        "\n",
        "# hitung mse\n",
        "train_mse_reg = mean_squared_error(y_train, y_train_pred_reg)\n",
        "test_mse_reg = mean_squared_error(y_test, y_test_pred_reg)\n",
        "\n",
        "# Menampilkan hasilnya\n",
        "print(f'Training MSE (After Regularization): {train_mse_reg}')\n",
        "print(f'Testing MSE (After Regularization): {test_mse_reg}')"
      ],
      "metadata": {
        "colab": {
          "base_uri": "https://localhost:8080/"
        },
        "id": "fMSsYdo6zGUP",
        "outputId": "a5035642-309f-43cf-ac02-57e4e5692c56"
      },
      "execution_count": 7,
      "outputs": [
        {
          "output_type": "stream",
          "name": "stdout",
          "text": [
            "Training MSE (After Regularization): 0.4928096322147045\n",
            "Testing MSE (After Regularization): 0.5210801561811792\n"
          ]
        }
      ]
    },
    {
      "cell_type": "markdown",
      "source": [
        "Setelah menerapkan regularisasi pada model Decision Tree, hasil sebagai berikut didapatkan.\n",
        "\n",
        "- Training MSE (Setelah Regularisasi): 0.4928\n",
        "- Test MSE (Setelah Regularisasi): 0.5211\n",
        "\n",
        "Hasil ini menunjukkan peningkatan dibandingkan sebelumnya, yaitu perbedaan antara Training MSE dan Test MSE menjadi lebih kecil. Ini berarti model telah menjadi lebih seimbang dan tidak lagi terlalu fokus pada data latih (overfitting) karena performa dalam data uji sekarang lebih mendekati performa pada data latih."
      ],
      "metadata": {
        "id": "XgWO7kiqA7aX"
      }
    },
    {
      "cell_type": "markdown",
      "source": [
        "## **3. Pruning (Pruning Manual pada Kedalaman Pohon)**\n",
        "\n",
        "Teknik yang digunakan adalah Cost Complexity Pruning dengan parameter ccp_alpha. Ini memungkinkan kita memangkas cabang-cabang pohon yang kurang penting. Semakin besar nilai ccp_alpha, semakin banyak pemangkasan dilakukan."
      ],
      "metadata": {
        "id": "0pMHbjzNBD0w"
      }
    },
    {
      "cell_type": "code",
      "source": [
        "# Menggunakan cc_alpha untuk pruning (Cost Complexity Pruning)\n",
        "path = model.cost_complexity_pruning_path(X_train, y_train)\n",
        "ccp_alphas = path.ccp_alphas\n",
        "\n",
        "# Melatih model pruning\n",
        "model_prun = DecisionTreeRegressor(random_state=42, ccp_alpha=ccp_alphas[-2])\n",
        "model_prun.fit(X_train, y_train)\n",
        "\n",
        "# Membuat prediksi model\n",
        "prun_train_pred = model_prun.predict(X_train)\n",
        "prun_test_pred = model_prun.predict(X_test)\n",
        "\n",
        "# Membuat evaluasi model\n",
        "prun_train_pred_mse = mean_squared_error(y_train, prun_train_pred)\n",
        "prun_test_pred_mse = mean_squared_error(y_test, prun_test_pred)\n",
        "\n",
        "# Menampilkan hasil evaluasi\n",
        "print(f'Training MSE (After Pruning): {prun_train_pred_mse}')\n",
        "print(f'Testing MSE (After Pruning): {prun_test_pred_mse}')"
      ],
      "metadata": {
        "colab": {
          "base_uri": "https://localhost:8080/"
        },
        "id": "Exd61izX2lWN",
        "outputId": "9b7d950a-f467-4593-b425-a5c2d5bf6277"
      },
      "execution_count": 10,
      "outputs": [
        {
          "output_type": "stream",
          "name": "stdout",
          "text": [
            "Training MSE (After Pruning): 0.9189620181001872\n",
            "Testing MSE (After Pruning): 0.9194598144703808\n"
          ]
        }
      ]
    },
    {
      "cell_type": "markdown",
      "source": [
        "Sebelum melakukan pruning hasil model yaitu:\n",
        "\n",
        "- MSE pada data Train: 9.904697258622977e-32\n",
        "\n",
        "- MSE pada data Test: 0.5265727720164728\n",
        "\n",
        "Setelah melakukan pruning pada model Decision Tree, hasil yang diperoleh sebagai berikut.\n",
        "\n",
        "- Pruned Model Training MSE: 0.9189\n",
        "- Pruned Model Test MSE: 0.9194\n",
        "\n",
        "Hasil ini menunjukkan bahwa setelah diterapkan pruning, kesalahan pada data latih dan data uji menjadi hampir sama. Ini adalah tanda bahwa model telah berhasil mengurangi overfitting karena perbedaan antara MSE pada data latih dan data uji sudah sangat kecil."
      ],
      "metadata": {
        "id": "XdWVN660Dbx_"
      }
    },
    {
      "cell_type": "markdown",
      "source": [
        "## 4. Data Augmentation\n",
        "\n",
        "Data augmentation adalah penggunaan teknik untuk meningkatkan kualitas dan kemampuan model dengan membuat variasi tambahan dari data yang sudah ada.\n",
        "Melakukan augmentasi dengan menambahkan sedikit noise atau gangguan pada data latih. Noise ini adalah gangguan acak yang tidak signifikan, tetapi cukup untuk memberikan variasi pada data latih."
      ],
      "metadata": {
        "id": "sY4ypiYgD0pz"
      }
    },
    {
      "cell_type": "code",
      "source": [
        "# Menambah sedikit noise ke data sebagai augmentasi\n",
        "X_train_aug = X_train + np.random.normal(0, 0.1, X_train.shape)\n",
        "\n",
        "# Melatih model DT utk Augmentasi\n",
        "model_aug = DecisionTreeRegressor(max_depth=10, random_state=42)\n",
        "model_aug.fit(X_train_aug, y_train)\n",
        "\n",
        "# Memprediksi data latih\n",
        "y_train_aug = model_aug.predict(X_train_aug)\n",
        "y_test_aug = model_aug.predict(X_test)\n",
        "\n",
        "# Evaluasi MSE\n",
        "y_train_aug_mse = mean_squared_error(y_train, y_train_aug)\n",
        "y_test_aug_mse = mean_squared_error(y_test, y_test_aug)\n",
        "\n",
        "# Menampilkan hasil evaluasi\n",
        "print(f'Training MSE (After Data Augmentation): {y_train_aug_mse}')\n",
        "print(f'Testing MSE (After Data Augmentation): {y_test_aug_mse}')"
      ],
      "metadata": {
        "colab": {
          "base_uri": "https://localhost:8080/"
        },
        "id": "Gw6JrL2VB2NV",
        "outputId": "6d95d420-8e2c-4df9-cef2-10c9d431732d"
      },
      "execution_count": 11,
      "outputs": [
        {
          "output_type": "stream",
          "name": "stdout",
          "text": [
            "Training MSE (After Data Augmentation): 0.31504062709408553\n",
            "Testing MSE (After Data Augmentation): 0.5409110025141391\n"
          ]
        }
      ]
    },
    {
      "cell_type": "markdown",
      "source": [
        "Setelah menerapkan data augmentation dengan menambahkan noise pada data latih, hasil yang diperoleh sebagai berikut.\n",
        "\n",
        "- Augmented Data Training MSE: 0.3193\n",
        "- Augmented Data Test MSE: 0.5219\n",
        "\n",
        "Ini menunjukkan bahwa model sekarang lebih general dan tidak terlalu pas dengan data latih. Test MSE tetap hampir sama pada 0.5219, yang menunjukkan performa model dalam data uji tidak banyak berubah.\n",
        "\n",
        "Secara keseluruhan, data augmentation membantu mengurangi overfitting dengan membuat model lebih adaptif terhadap variasi dalam data latih meskipun hasil pada data uji tetap stabil."
      ],
      "metadata": {
        "id": "m2WclH6TGOil"
      }
    },
    {
      "cell_type": "markdown",
      "source": [
        "## **5. Dropout**\n",
        "\n",
        "Dropout adalah teknik regulasi yang digunakan untuk mencegah overfitting dalam model machine learning, khususnya neural networks. Teknik ini bekerja dengan \"menghilangkan\" beberapa neuron secara acak selama pelatihan sehingga model tidak terlalu bergantung pada neuron tertentu dan belajar untuk membuat keputusan berdasarkan fitur yang lebih robust."
      ],
      "metadata": {
        "id": "9FX6htTRGUcV"
      }
    },
    {
      "cell_type": "code",
      "source": [
        "# Menggunakan algoritam Random forest untuk teknik Dropout\n",
        "from sklearn.ensemble import RandomForestRegressor\n",
        "\n",
        "model_rf = RandomForestRegressor(n_estimators=100, max_depth=10, random_state=42)\n",
        "model_rf.fit(X_train, y_train)\n",
        "\n",
        "# menguji data latih dan testing\n",
        "train_pred_rf = model_rf.predict(X_train)\n",
        "test_pred_rf = model_rf.predict(X_test)\n",
        "\n",
        "# Melakukan evaluasi pada data\n",
        "rf_train_mse = mean_squared_error(y_train, train_pred_rf)\n",
        "rf_test_mse = mean_squared_error(y_test, test_pred_rf)\n",
        "\n",
        "# Menampilkan hasil evaluasi\n",
        "print(f'Training MSE (After Dropout): {rf_train_mse}')\n",
        "print(f'Testing MSE (After Dropout): {rf_test_mse}')"
      ],
      "metadata": {
        "colab": {
          "base_uri": "https://localhost:8080/"
        },
        "id": "ux84qx47F8cC",
        "outputId": "4d19567b-7cc6-4573-b9fa-cd7094723a56"
      },
      "execution_count": 12,
      "outputs": [
        {
          "output_type": "stream",
          "name": "stdout",
          "text": [
            "Training MSE (After Dropout): 0.1694509694100654\n",
            "Testing MSE (After Dropout): 0.2944646271173382\n"
          ]
        }
      ]
    },
    {
      "cell_type": "markdown",
      "source": [
        "Hasil dari penerapan Random Forest sebagai berikut.\n",
        "\n",
        "- Training MSE: 0.1694\n",
        "- Test MSE: 0.2945\n",
        "\n",
        "Meskipun MSE dalam data latih sedikit meningkat dibandingkan dengan model awal, MSE pada data uji menunjukkan penurunan yang signifikan. Ini menandakan bahwa model Random Forest lebih baik dalam mengatasi overfitting dan memberikan hasil yang lebih stabil saat diterapkan pada data baru."
      ],
      "metadata": {
        "id": "a5mJ7v8rH5EJ"
      }
    },
    {
      "cell_type": "markdown",
      "source": [
        "# **Study Case: Underfitting**"
      ],
      "metadata": {
        "id": "CdRbWYj-ICtw"
      }
    },
    {
      "cell_type": "code",
      "source": [
        "from sklearn.datasets import load_breast_cancer\n",
        "from sklearn.metrics import accuracy_score\n",
        "from sklearn.tree import DecisionTreeClassifier\n"
      ],
      "metadata": {
        "id": "d8CRpz_SHx_q"
      },
      "execution_count": 18,
      "outputs": []
    },
    {
      "cell_type": "code",
      "source": [
        "# Load dataset\n",
        "data = load_breast_cancer()\n",
        "X = pd.DataFrame(data.data, columns=data.feature_names)\n",
        "y = pd.Series(data.target)\n",
        "\n",
        "# Membagi Dataset\n",
        "X_train, X_test, y_train, y_test = train_test_split(X, y, test_size=0.3, random_state=42)\n",
        "print(X_train.shape)\n",
        "print(X_test.shape)"
      ],
      "metadata": {
        "colab": {
          "base_uri": "https://localhost:8080/"
        },
        "id": "XYjvzYzEKPfy",
        "outputId": "043913ca-51e1-4fa8-e3fc-8aa3fccd3cba"
      },
      "execution_count": 19,
      "outputs": [
        {
          "output_type": "stream",
          "name": "stdout",
          "text": [
            "(398, 30)\n",
            "(171, 30)\n"
          ]
        }
      ]
    },
    {
      "cell_type": "markdown",
      "source": [
        "# **Mendeteksi Underfitting**\n",
        "## 1. Mengevaluasi performa pada data latih dan data uji"
      ],
      "metadata": {
        "id": "VnJBGYPdSlKd"
      }
    },
    {
      "cell_type": "code",
      "source": [
        "# Membuat data underfit menggunakan model Decision Tree\n",
        "model_underfit = DecisionTreeClassifier(max_depth=1, random_state=42)\n",
        "model_underfit.fit(X_train, y_train)\n",
        "\n",
        "# membuat prediksi model\n",
        "y_train_pred_underfit = model_underfit.predict(X_train)\n",
        "y_test_pred_underfit = model_underfit.predict(X_test)\n",
        "\n",
        "# Membuat evaluasi acuracy\n",
        "underfit_train_acc = accuracy_score(y_train, y_train_pred_underfit)\n",
        "underfit_test_acc = accuracy_score(y_test, y_test_pred_underfit)\n",
        "\n",
        "# Menampikan hasil accuracy\n",
        "print(f'Training Accuracy (Underfit): {underfit_train_acc}')\n",
        "print(f'Testing Accuracy (Underfit): {underfit_test_acc}')"
      ],
      "metadata": {
        "colab": {
          "base_uri": "https://localhost:8080/"
        },
        "id": "ozhmNqe_Kurx",
        "outputId": "fa181283-e626-47dc-d724-20f6ec29de73"
      },
      "execution_count": 22,
      "outputs": [
        {
          "output_type": "stream",
          "name": "stdout",
          "text": [
            "Training Accuracy (Underfit): 0.9246231155778895\n",
            "Testing Accuracy (Underfit): 0.8947368421052632\n"
          ]
        }
      ]
    },
    {
      "cell_type": "markdown",
      "source": [
        "Hasil yang diperoleh adalah berikut.\n",
        "\n",
        "- Underfit Model Training Accuracy: 0.9246\n",
        "\n",
        "- Underfit Model Test Accuracy: 0.8947\n",
        "\n",
        "Dari hasil ini, kita dapat melihat bahwa meskipun model memiliki akurasi yang cukup baik pada data latih (92.46%), akurasinya sedikit menurun dalam data uji (89.47%). Perbedaan ini menunjukkan bahwa model tidak terlalu menyesuaikan diri dengan data latih, tetapi juga tidak menangkap pola yang cukup baik untuk memprediksi data uji dengan akurasi lebih tinggi. Ini adalah indikasi bahwa model mengalami underfitting."
      ],
      "metadata": {
        "id": "-ZSyicJQN3rj"
      }
    },
    {
      "cell_type": "markdown",
      "source": [
        "\n",
        "## **2. Learning Curve**\n",
        "\n",
        "Membuat Visualiassi Learning Curve untuk melihat data underfitting atau tidak"
      ],
      "metadata": {
        "id": "aKRzDjNhN86Q"
      }
    },
    {
      "cell_type": "code",
      "source": [
        "# Learning Curve memeriksa data latih\n",
        "train_sizes, train_scores, test_scores = learning_curve(model_underfit, X_train, y_train, cv=5, scoring='accuracy', train_sizes=np.linspace(0.1, 1.0, 10))\n",
        "\n",
        "train_scores_mean = np.mean(train_scores, axis=1)\n",
        "test_scores_mean = np.mean(test_scores, axis=1)\n",
        "\n",
        "# plot learning curve\n",
        "plt.figure()\n",
        "plt.plot(train_sizes, train_scores_mean, label='Training Scores')\n",
        "plt.plot(train_sizes, test_scores_mean, label='Validation Scores')\n",
        "plt.title('Learning Curve Underfitting')\n",
        "plt.xlabel('Training Set Size')\n",
        "plt.ylabel('Accuracy')\n",
        "plt.legend()\n",
        "plt.grid(True)\n",
        "plt.show()"
      ],
      "metadata": {
        "colab": {
          "base_uri": "https://localhost:8080/",
          "height": 472
        },
        "id": "-dec7MbsMwc4",
        "outputId": "dd803d92-5d1d-4242-a02f-cdde1de89077"
      },
      "execution_count": 23,
      "outputs": [
        {
          "output_type": "display_data",
          "data": {
            "text/plain": [
              "<Figure size 640x480 with 1 Axes>"
            ],
            "image/png": "[encoded data removed]"
          },
          "metadata": {}
        }
      ]
    },
    {
      "cell_type": "markdown",
      "source": [
        "Jika learning curve menunjukkan bahwa baik skor pelatihan maupun skor validasi tidak meningkat secara signifikan dengan bertambahnya ukuran data, ini mengindikasikan bahwa model mungkin tidak cukup kompleks untuk menangkap pola dalam data. Ini merupakan tanda underfitting."
      ],
      "metadata": {
        "id": "M5ruVFBzQWs3"
      }
    },
    {
      "cell_type": "markdown",
      "source": [
        "## 2. Pemeriksaan Kompleksitas Model"
      ],
      "metadata": {
        "id": "Nfa5WgFRQaO5"
      }
    },
    {
      "cell_type": "code",
      "source": [
        "# Menambah parameter untuk meningkatkan kompleksitas model\n",
        "\n",
        "# Membuat data Complex menggunakan model Decision Tree\n",
        "model_complex = DecisionTreeClassifier(max_depth=5, random_state=42)\n",
        "model_complex.fit(X_train, y_train)\n",
        "\n",
        "# membuat prediksi model\n",
        "y_train_pred_complex = model_complex.predict(X_train)\n",
        "y_test_pred_complex = model_complex.predict(X_test)\n",
        "\n",
        "# Membuat evaluasi acuracy\n",
        "complex_train_acc = accuracy_score(y_train, y_train_pred_complex)\n",
        "complex_test_acc = accuracy_score(y_test, y_test_pred_complex)\n",
        "\n",
        "# Menampikan hasil accuracy\n",
        "print(f'Training Accuracy (complex): {complex_train_acc}')\n",
        "print(f'Testing Accuracy (complex): {complex_test_acc}')"
      ],
      "metadata": {
        "colab": {
          "base_uri": "https://localhost:8080/"
        },
        "id": "I5esOuJ5P-lG",
        "outputId": "545c8b70-1823-44bb-8859-06936a135a26"
      },
      "execution_count": 25,
      "outputs": [
        {
          "output_type": "stream",
          "name": "stdout",
          "text": [
            "Training Accuracy (complex): 0.9949748743718593\n",
            "Testing Accuracy (complex): 0.9532163742690059\n"
          ]
        }
      ]
    },
    {
      "cell_type": "markdown",
      "source": [
        "Dengan menggunakan model yang lebih kompleks, yakni dengan max_depth=5, perubahan signifikan dalam hasil terlihat sebagai berikut.\n",
        "\n",
        "- Akurasi Model Kompleks pada Data Latih: 0.995\n",
        "Akurasi Model Kompleks pada Data Uji: 0.953\n",
        "Model sederhana yang mengalami underfitting sebelumnya hanya mencapai akurasi pelatihan sekitar 0.925 dan akurasi uji sekitar 0.895. Model yang lebih kompleks ini hampir mencapai akurasi sempurna pada data latih dan tetap sangat bagus dalam data uji."
      ],
      "metadata": {
        "id": "sOF_RDdaRG3a"
      }
    },
    {
      "cell_type": "markdown",
      "source": [
        "# **Handle Underfiting**"
      ],
      "metadata": {
        "id": "nZ3Bec9tSwpQ"
      }
    },
    {
      "cell_type": "markdown",
      "source": [
        "## 1. Menggunakan Kompleksitas Model\n",
        "\n",
        "Menambah parameter baru untuk menguji kompleksitas model"
      ],
      "metadata": {
        "id": "_huTP8DdTUX3"
      }
    },
    {
      "cell_type": "code",
      "source": [
        "# Menambah parameter untuk meningkatkan kompleksitas model\n",
        "\n",
        "# Menambah parameter max_depth=10 untuk meningkatkan kompleksitas data\n",
        "complex_dt = DecisionTreeClassifier(max_depth=10, random_state=42)\n",
        "complex_dt.fit(X_train, y_train)\n",
        "\n",
        "# membuat prediksi model\n",
        "y_train_pred_complex = complex_dt.predict(X_train)\n",
        "y_test_pred_complex = complex_dt.predict(X_test)\n",
        "\n",
        "# Membuat evaluasi acuracy\n",
        "complex_train_acc = accuracy_score(y_train, y_train_pred_complex)\n",
        "complex_test_acc = accuracy_score(y_test, y_test_pred_complex)\n",
        "\n",
        "# Menampikan hasil accuracy\n",
        "print(f'Training Accuracy (complex): {complex_train_acc}')\n",
        "print(f'Testing Accuracy (complex): {complex_test_acc}')"
      ],
      "metadata": {
        "colab": {
          "base_uri": "https://localhost:8080/"
        },
        "id": "E_lkRX4HQ9S8",
        "outputId": "94fc1ae6-ad13-4b51-bf9c-eeb5596a8323"
      },
      "execution_count": 26,
      "outputs": [
        {
          "output_type": "stream",
          "name": "stdout",
          "text": [
            "Training Accuracy (complex): 1.0\n",
            "Testing Accuracy (complex): 0.9415204678362573\n"
          ]
        }
      ]
    },
    {
      "cell_type": "markdown",
      "source": [
        "Dengan menggunakan model yang lebih kompleks, Anda akan melihat peningkatan signifikan dalam akurasi, baik pada data latih maupun data uji. Ini menunjukkan bahwa model sekarang lebih mampu menangkap pola data dan mengatasi masalah underfitting yang sebelumnya ada."
      ],
      "metadata": {
        "id": "91hIbp9CTz_9"
      }
    },
    {
      "cell_type": "markdown",
      "source": [
        "## 2. Tambahkan Lebih Banyak Fitur (Feature Engineering dengan PCA)\n",
        "\n",
        "Menambahkan lebih banyak fitur ke dalam model melalui teknik feature engineering. Salah satu cara untuk melakukannya adalah menggunakan principal component analysis (PCA)."
      ],
      "metadata": {
        "id": "L7zGlXJwT3Gm"
      }
    },
    {
      "cell_type": "code",
      "source": [
        "from sklearn.decomposition import PCA\n",
        "from sklearn.preprocessing import StandardScaler\n",
        "\n",
        "# normalisasi dataset\n",
        "scaler = StandardScaler()\n",
        "X_scaler = scaler.fit_transform(X)\n",
        "\n",
        "# PCA untuk mengurangi dimensi atau menambah fitur-fitur\n",
        "pca = PCA(n_components=5) # menambah fitur baru dari data asli\n",
        "X_pca = pca.fit_transform(X_scaler)\n",
        "\n",
        "# Membagi data latih dan data uji\n",
        "X_train_pca, X_test_pca, y_train_pca, y_test_pca = train_test_split(X_pca, y, test_size=0.3, random_state=42)\n",
        "\n",
        "# Membuat model dt\n",
        "model_pca = DecisionTreeClassifier(max_depth=10, random_state=42)\n",
        "model_pca.fit(X_train_pca, y_train_pca)\n",
        "\n",
        "# Prediksi data latih dan uji\n",
        "y_train_pred_pca = model_pca.predict(X_train_pca)\n",
        "y_test_pred_pca = model_pca.predict(X_test_pca)\n",
        "\n",
        "# Evaluasi model\n",
        "pca_train_acc = accuracy_score(y_train_pca, y_train_pred_pca)\n",
        "pca_test_acc = accuracy_score(y_test_pca, y_test_pred_pca)\n",
        "\n",
        "# Menampilkan hasil evaluasi\n",
        "print(f'Training Accuracy (PCA): {pca_train_acc}')\n",
        "print(f'Testing Accuracy (PCA): {pca_test_acc}')"
      ],
      "metadata": {
        "colab": {
          "base_uri": "https://localhost:8080/"
        },
        "id": "Mb3bMqAbTuOE",
        "outputId": "55f3f651-30ff-4705-dece-42c309f287bf"
      },
      "execution_count": 27,
      "outputs": [
        {
          "output_type": "stream",
          "name": "stdout",
          "text": [
            "Training Accuracy (PCA): 1.0\n",
            "Testing Accuracy (PCA): 0.9415204678362573\n"
          ]
        }
      ]
    },
    {
      "cell_type": "markdown",
      "source": [
        "Hasil yang diperoleh setelah menggunakan fitur hasil PCA sebagai berikut.\n",
        "\n",
        "- Training Accuracy (PCA): 1.0\n",
        "\n",
        "- Test Accuracy (PCA): 0.9415204678362573\n",
        "\n",
        "Dengan menerapkan PCA serta menambahkan fitur baru, kita bisa melihat bahwa akurasi model pada data latih dan data uji meningkat secara signifikan. Ini menunjukkan bahwa model sekarang lebih mampu menangkap pola-pola kompleks dalam data sehingga mengurangi masalah underfitting yang ada sebelumnya."
      ],
      "metadata": {
        "id": "TX5gl_okWfm9"
      }
    },
    {
      "cell_type": "markdown",
      "source": [
        "## 3. Hyperparameter Tuning Menggunakan GridSearchCV\n",
        "\n",
        "Hyperparameter tuning adalah proses mencari kombinasi terbaik dari parameter model untuk meningkatkan kinerja model. Salah satu alat yang berguna untuk tugas ini adalah GridSearchCV.\n",
        "\n",
        "Kita menentukan grid pencarian untuk hyperparameter, seperti max_depth,` min_samples_split`, dan min_samples_leaf. Proses ini melibatkan evaluasi berbagai kombinasi parameter menggunakan teknik cross-validation untuk menemukan konfigurasi yang optimal."
      ],
      "metadata": {
        "id": "dP4TOwj4W-GW"
      }
    },
    {
      "cell_type": "code",
      "source": [
        "from sklearn.model_selection import GridSearchCV\n",
        "\n",
        "# Grid Search untuk hyperparameter tuning\n",
        "param_grid ={\n",
        "    'max_depth': [5, 10, 15],\n",
        "    'min_samples_split': [2, 5, 10],\n",
        "    'min_samples_leaf': [1, 2, 4]\n",
        "}\n",
        "\n",
        "grid_search = GridSearchCV(estimator=DecisionTreeClassifier(random_state=42),\n",
        "                           param_grid=param_grid, cv=5, scoring='accuracy')\n",
        "\n",
        "# Mencari parameter terbaik\n",
        "grid_search.fit(X_train, y_train)\n",
        "\n",
        "# Hyperparameter terbaik\n",
        "best_params = grid_search.best_params_\n",
        "best_model = grid_search.best_estimator_\n",
        "\n",
        "# Prediksi data train dan data testing\n",
        "y_pred_train_best = best_model.predict(X_train)\n",
        "y_pred_test_best = best_model.predict(X_test)\n",
        "\n",
        "# evaluasi model\n",
        "grid_train_acc = accuracy_score(y_train, y_pred_train_best)\n",
        "grid_test_acc = accuracy_score(y_test, y_pred_test_best)\n",
        "\n",
        "# Menampilkan hasil evaluasi\n",
        "print(f'Best Hyperparameters: {best_params}')\n",
        "print(f'Training Accuracy (Grid Search): {grid_train_acc}')\n",
        "print(f'Testing Accuracy (Grid Search): {grid_test_acc}')"
      ],
      "metadata": {
        "colab": {
          "base_uri": "https://localhost:8080/"
        },
        "id": "1hGP4MB2WUo6",
        "outputId": "0670489a-1347-4af1-a3ce-028cf65277fe"
      },
      "execution_count": 28,
      "outputs": [
        {
          "output_type": "stream",
          "name": "stdout",
          "text": [
            "Best Hyperparameters: {'max_depth': 5, 'min_samples_leaf': 1, 'min_samples_split': 2}\n",
            "Training Accuracy (Grid Search): 0.9949748743718593\n",
            "Testing Accuracy (Grid Search): 0.9532163742690059\n"
          ]
        }
      ]
    },
    {
      "cell_type": "markdown",
      "source": [
        "## 4. Perbaiki Preprocessing Data\n",
        "\n",
        "Salah satu teknik penting adalah normalisasi data. Ini memastikan bahwa fitur memiliki skala yang sama sehingga model dapat belajar dengan lebih efektif."
      ],
      "metadata": {
        "id": "_dtp4DtpY-4K"
      }
    },
    {
      "cell_type": "code",
      "source": [
        "# Melakukan normalisasi ulang dengan scaler\n",
        "scaler = StandardScaler()\n",
        "X_scaled_new = scaler.fit_transform(X)\n",
        "\n",
        "# Membagi ulang data latih dan uji\n",
        "X_train_scaled, X_test_scaled, y_train_scaled, y_test_scaled = train_test_split(X_scaled_new, y, test_size=0.3, random_state=42)\n",
        "\n",
        "# Model setelah preprocessing data lebih baik\n",
        "model_after_scaling = DecisionTreeClassifier(max_depth=10, random_state=42)\n",
        "model_after_scaling.fit(X_train_scaled, y_train_scaled)\n",
        "\n",
        "# Prediksi\n",
        "y_train_pred_scaled = model_after_scaling.predict(X_train_scaled)\n",
        "y_test_pred_scaled = model_after_scaling.predict(X_test_scaled)\n",
        "\n",
        "# Evaluasi performa\n",
        "train_acc_scaled = accuracy_score(y_train_scaled, y_train_pred_scaled)\n",
        "test_acc_scaled = accuracy_score(y_test_scaled, y_test_pred_scaled)\n",
        "\n",
        "print(f\"Training Accuracy (After Scaling): {train_acc_scaled}\")\n",
        "print(f\"Test Accuracy (After Scaling): {test_acc_scaled}\")"
      ],
      "metadata": {
        "colab": {
          "base_uri": "https://localhost:8080/"
        },
        "id": "EqXJu1BoYvt6",
        "outputId": "dfee2a81-29e4-4fef-f153-5e98652bfed4"
      },
      "execution_count": 29,
      "outputs": [
        {
          "output_type": "stream",
          "name": "stdout",
          "text": [
            "Training Accuracy (After Scaling): 1.0\n",
            "Test Accuracy (After Scaling): 0.9415204678362573\n"
          ]
        }
      ]
    },
    {
      "cell_type": "markdown",
      "source": [
        "Dengan perbaikan preprocessing data, kita melihat bahwa akurasi model pada data latih tetap tinggi dan akurasi dalam data uji juga meningkat. Ini menunjukkan bahwa preprocessing yang lebih baik membantu model untuk belajar lebih efektif dan memberikan performa lebih baik serta mengatasi masalah underfitting sebelumnya."
      ],
      "metadata": {
        "id": "I_1oafBAZOG8"
      }
    },
    {
      "cell_type": "markdown",
      "source": [
        "## 5. Tambahkan Data Latih\n",
        "\n",
        "Dengan meningkatkan jumlah data latih, model memiliki lebih banyak informasi untuk belajar dan dapat meningkatkan kemampuannya dalam mengenali pola yang lebih kompleks.\n",
        "\n",
        "Untuk memperbaiki performa model, kita dapat memperbesar ukuran data latih. Kita membagi ulang data dengan meningkatkan proporsi data latih dan mengurangi ukuran data uji. Kemudian, kita melatih model DecisionTreeClassifier dengan parameter max_depth lebih besar menggunakan data latih yang lebih besar."
      ],
      "metadata": {
        "id": "5Sy3NmZ9ZSAj"
      }
    },
    {
      "cell_type": "code",
      "source": [
        "# Menambah ukuran data training\n",
        "# Menambah data latih menjadi 80%\n",
        "X_train_more_data, X_test_less_data, y_train_more_data, y_test_less_data = train_test_split(X_scaler, y, test_size=0.2, random_state=42)\n",
        "\n",
        "# Model dengan lebih banyak data latih\n",
        "model_more_data = DecisionTreeClassifier(max_depth=10, random_state=42)\n",
        "model_more_data.fit(X_train_more_data, y_train_more_data)\n",
        "\n",
        "# Prediksi\n",
        "y_train_pred_more_data = model_more_data.predict(X_train_more_data)\n",
        "y_test_pred_more_data = model_more_data.predict(X_test_less_data)\n",
        "\n",
        "# Evaluasi performa\n",
        "train_acc_more_data = accuracy_score(y_train_more_data, y_train_pred_more_data)\n",
        "test_acc_more_data = accuracy_score(y_test_less_data, y_test_pred_more_data)\n",
        "\n",
        "print(f\"Training Accuracy (More Data): {train_acc_more_data}\")\n",
        "print(f\"Test Accuracy (More Data): {test_acc_more_data}\")"
      ],
      "metadata": {
        "colab": {
          "base_uri": "https://localhost:8080/"
        },
        "id": "R8swKMz5ZKGj",
        "outputId": "9ef118e4-b905-445e-b3b9-e1ff432a8eaa"
      },
      "execution_count": 32,
      "outputs": [
        {
          "output_type": "stream",
          "name": "stdout",
          "text": [
            "Training Accuracy (More Data): 1.0\n",
            "Test Accuracy (More Data): 0.9473684210526315\n"
          ]
        }
      ]
    },
    {
      "cell_type": "markdown",
      "source": [
        "Dengan menambah ukuran data latih, akurasi model dalam data latih tetap tinggi dan akurasi pada data uji juga mengalami peningkatan. Ini menunjukkan bahwa dengan data latih yang lebih banyak, model dapat menangkap pola lebih kompleks dan memberikan performa lebih baik. Ini membantu mengatasi masalah underfitting yang ada sebelumnya."
      ],
      "metadata": {
        "id": "D7PdcwiRaMJN"
      }
    },
    {
      "cell_type": "code",
      "source": [],
      "metadata": {
        "id": "YvE-gk1YaASf"
      },
      "execution_count": null,
      "outputs": []
    }
  ]
}