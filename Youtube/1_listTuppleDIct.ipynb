{
  "nbformat": 4,
  "nbformat_minor": 0,
  "metadata": {
    "colab": {
      "provenance": [],
      "authorship_tag": "ABX9TyNRNAvL3KZH5TWsXfyVM8BO",
      "include_colab_link": true
    },
    "kernelspec": {
      "name": "python3",
      "display_name": "Python 3"
    },
    "language_info": {
      "name": "python"
    }
  },
  "cells": [
    {
      "cell_type": "markdown",
      "metadata": {
        "id": "view-in-github",
        "colab_type": "text"
      },
      "source": [
        "<a href=\"https://colab.research.google.com/github/NovrianPratama/MachineLearning/blob/main/1_listTuppleDIct.ipynb\" target=\"_parent\"><img src=\"https://colab.research.google.com/assets/colab-badge.svg\" alt=\"Open In Colab\"/></a>"
      ]
    },
    {
      "cell_type": "code",
      "execution_count": null,
      "metadata": {
        "id": "6nCcHQXHror5"
      },
      "outputs": [],
      "source": []
    },
    {
      "cell_type": "markdown",
      "source": [
        "List\n"
      ],
      "metadata": {
        "id": "CbeiATncr4XB"
      }
    },
    {
      "cell_type": "code",
      "source": [
        "# contoh list\n",
        "data_diri = ['Novrian', 22, 2002]\n",
        "print(data_diri)"
      ],
      "metadata": {
        "colab": {
          "base_uri": "https://localhost:8080/"
        },
        "id": "AD2YwD_CsCfa",
        "outputId": "494fdc51-8d0b-44f3-e643-2b3d4ea69f76"
      },
      "execution_count": null,
      "outputs": [
        {
          "output_type": "stream",
          "name": "stdout",
          "text": [
            "['Novrian', 22, 2002]\n"
          ]
        }
      ]
    },
    {
      "cell_type": "code",
      "source": [
        "# Append yaitu menambahkan data baru pada list\n",
        "data_diri.append('Mahasiswa')\n",
        "print(data_diri)"
      ],
      "metadata": {
        "colab": {
          "base_uri": "https://localhost:8080/"
        },
        "id": "id45NXWYsT1t",
        "outputId": "e934594d-0924-42aa-b377-c6b45b52b74b"
      },
      "execution_count": null,
      "outputs": [
        {
          "output_type": "stream",
          "name": "stdout",
          "text": [
            "['Novrian', 22, 2002, 'Mahasiswa', 'Mahasiswa']\n"
          ]
        }
      ]
    },
    {
      "cell_type": "code",
      "source": [
        "# join list\n",
        "nomor_undian = [1,3,4,2,5,3,5,9]\n",
        "nomor_undian2 = [3,2,4,5]\n",
        "\n",
        "nomor_antri = nomor_undian + nomor_undian2\n",
        "print(nomor_antri)"
      ],
      "metadata": {
        "colab": {
          "base_uri": "https://localhost:8080/"
        },
        "id": "OSzDO9Oqs2LD",
        "outputId": "513d4bb2-f61d-493f-f450-b9f2bcd2c0eb"
      },
      "execution_count": null,
      "outputs": [
        {
          "output_type": "stream",
          "name": "stdout",
          "text": [
            "[1, 3, 4, 2, 5, 3, 5, 9, 3, 2, 4, 5]\n"
          ]
        }
      ]
    },
    {
      "cell_type": "code",
      "source": [
        "# cara mengambil nilai list\n",
        "data_diri = ['Novrian', 22, 2002]\n",
        "\n",
        "print(data_diri[0])\n"
      ],
      "metadata": {
        "colab": {
          "base_uri": "https://localhost:8080/"
        },
        "id": "kowQNGRxtO2l",
        "outputId": "996664ce-634c-45aa-cd3d-2d905dc26d9b"
      },
      "execution_count": null,
      "outputs": [
        {
          "output_type": "stream",
          "name": "stdout",
          "text": [
            "Novrian\n"
          ]
        }
      ]
    },
    {
      "cell_type": "code",
      "source": [
        "Nilai = ['Daming', 80, 'IT Service', 90]\n",
        "\n",
        "print(f\"Mata kuliah {Nilai[0]}: {Nilai[3]}\")\n",
        "print(f\"Mata kuliah {Nilai[2]}: {Nilai[1]}\")"
      ],
      "metadata": {
        "colab": {
          "base_uri": "https://localhost:8080/"
        },
        "id": "btVkmHtKtdXo",
        "outputId": "1a6939d6-56ae-4c0e-ad0d-9ea42e8c9f7b"
      },
      "execution_count": null,
      "outputs": [
        {
          "output_type": "stream",
          "name": "stdout",
          "text": [
            "Mata kuliah Daming: 90\n",
            "Mata kuliah IT Service: 80\n"
          ]
        }
      ]
    },
    {
      "cell_type": "code",
      "source": [
        "Nilai = ['Daming', 80, 'IT Service', 90]\n",
        "\n",
        "print(f\"Mata kuliah {Nilai[0]}: {Nilai[3]}\")\n",
        "print(f\"Mata kuliah {Nilai[2]}: {Nilai[1]}\")\n",
        "\n",
        "Nilai.append('Ansi')\n",
        "print(Nilai)\n",
        "\n",
        "# mengahapus nilai list\n",
        "del Nilai[0]\n",
        "print(Nilai)"
      ],
      "metadata": {
        "colab": {
          "base_uri": "https://localhost:8080/"
        },
        "id": "MAAPGuHouNUO",
        "outputId": "aedd0fb0-1364-4674-9f07-6cd672ef1dc1"
      },
      "execution_count": null,
      "outputs": [
        {
          "output_type": "stream",
          "name": "stdout",
          "text": [
            "Mata kuliah Daming: 90\n",
            "Mata kuliah IT Service: 80\n",
            "['Daming', 80, 'IT Service', 90, 'Ansi']\n",
            "[80, 'IT Service', 90, 'Ansi']\n"
          ]
        }
      ]
    },
    {
      "cell_type": "code",
      "source": [
        "# join list\n",
        "nomor_undian = [1,3,4,2,5,3,5,9]\n",
        "nomor_undian2 = [3,2,4,5]\n",
        "\n",
        "nomor_antri = nomor_undian + nomor_undian2\n",
        "print(nomor_antri)\n",
        "\n",
        "# cara mengetahui jumlah data pada list, sama dengan fungsi count\n",
        "print(len(nomor_antri))"
      ],
      "metadata": {
        "colab": {
          "base_uri": "https://localhost:8080/"
        },
        "id": "H1NJ0dzSubZm",
        "outputId": "9ea02e36-2a4f-419b-a4cb-41c3b2a81154"
      },
      "execution_count": null,
      "outputs": [
        {
          "output_type": "stream",
          "name": "stdout",
          "text": [
            "[1, 3, 4, 2, 5, 3, 5, 9, 3, 2, 4, 5]\n",
            "12\n"
          ]
        }
      ]
    },
    {
      "cell_type": "code",
      "source": [],
      "metadata": {
        "id": "Q06mDCNju5GQ"
      },
      "execution_count": null,
      "outputs": []
    },
    {
      "cell_type": "markdown",
      "source": [
        "## TUPLE"
      ],
      "metadata": {
        "id": "0_4tcaDWvcCL"
      }
    },
    {
      "cell_type": "code",
      "source": [
        "# tuple\n",
        "tuple1 = (1,2,3,4,5)\n",
        "print(tuple1)\n",
        "print(type(tuple1))"
      ],
      "metadata": {
        "colab": {
          "base_uri": "https://localhost:8080/"
        },
        "id": "fqB_OqIXvg0-",
        "outputId": "11fc97be-6526-4f5c-848a-0d5248c48642"
      },
      "execution_count": null,
      "outputs": [
        {
          "output_type": "stream",
          "name": "stdout",
          "text": [
            "(1, 2, 3, 4, 5)\n",
            "<class 'tuple'>\n"
          ]
        }
      ]
    },
    {
      "cell_type": "markdown",
      "source": [
        "Convert List to tuple"
      ],
      "metadata": {
        "id": "5_nebxIkwKKn"
      }
    },
    {
      "cell_type": "code",
      "source": [
        "# Cara pindahkan tipe data\n",
        "\n",
        "data_list = [3,5,2,4,'Novrian']\n",
        "print(data_list)\n",
        "print(type(data_list))\n",
        "\n",
        "data_tuple = tuple(data_list)\n",
        "print(data_tuple)\n",
        "print(type(data_tuple))\n",
        "\n",
        "print(len(data_tuple))"
      ],
      "metadata": {
        "colab": {
          "base_uri": "https://localhost:8080/"
        },
        "id": "Qoyqt54iwNjZ",
        "outputId": "09a51358-0c40-4762-c0a9-de360f792f7c"
      },
      "execution_count": null,
      "outputs": [
        {
          "output_type": "stream",
          "name": "stdout",
          "text": [
            "[3, 5, 2, 4, 'Novrian']\n",
            "<class 'list'>\n",
            "(3, 5, 2, 4, 'Novrian')\n",
            "<class 'tuple'>\n",
            "5\n"
          ]
        }
      ]
    },
    {
      "cell_type": "markdown",
      "source": [
        "Tuple are immutable -> Unchangeable\n",
        "Jadi tupel tidak dapat dirubah valuenya seperti list dengan mengambil array"
      ],
      "metadata": {
        "id": "PDAwBvydwn_T"
      }
    },
    {
      "cell_type": "code",
      "source": [
        "data_tuple.append('coba')"
      ],
      "metadata": {
        "colab": {
          "base_uri": "https://localhost:8080/",
          "height": 141
        },
        "id": "iP7zhKVWw68M",
        "outputId": "7c29b39e-dc11-4518-a818-a8804ec91203"
      },
      "execution_count": null,
      "outputs": [
        {
          "output_type": "error",
          "ename": "AttributeError",
          "evalue": "'tuple' object has no attribute 'append'",
          "traceback": [
            "\u001b[0;31m---------------------------------------------------------------------------\u001b[0m",
            "\u001b[0;31mAttributeError\u001b[0m                            Traceback (most recent call last)",
            "\u001b[0;32m<ipython-input-25-b1be085e92f9>\u001b[0m in \u001b[0;36m<cell line: 1>\u001b[0;34m()\u001b[0m\n\u001b[0;32m----> 1\u001b[0;31m \u001b[0mdata_tuple\u001b[0m\u001b[0;34m.\u001b[0m\u001b[0mappend\u001b[0m\u001b[0;34m(\u001b[0m\u001b[0;34m'coba'\u001b[0m\u001b[0;34m)\u001b[0m\u001b[0;34m\u001b[0m\u001b[0;34m\u001b[0m\u001b[0m\n\u001b[0m",
            "\u001b[0;31mAttributeError\u001b[0m: 'tuple' object has no attribute 'append'"
          ]
        }
      ]
    },
    {
      "cell_type": "markdown",
      "source": [
        "# SET"
      ],
      "metadata": {
        "id": "WyAHvewbzKUw"
      }
    },
    {
      "cell_type": "code",
      "source": [
        "# Set menggukana kurung kriting {}\n",
        "data_set = {1,2,5,4,'Novrian'}\n",
        "print(data_set)\n",
        "print(type(data_set))"
      ],
      "metadata": {
        "colab": {
          "base_uri": "https://localhost:8080/"
        },
        "id": "Cw2FOAoazM33",
        "outputId": "a712fabd-e477-4634-d254-3752bfb0f5c5"
      },
      "execution_count": null,
      "outputs": [
        {
          "output_type": "stream",
          "name": "stdout",
          "text": [
            "{1, 2, 4, 5, 'Novrian'}\n",
            "<class 'set'>\n"
          ]
        }
      ]
    },
    {
      "cell_type": "code",
      "source": [
        "# set tidak boleh memiliki angka duplicate\n",
        "\n",
        "set2 = {2,3,3,3,5,4,4,2,1}\n",
        "print(set2)\n",
        "print(len(set2))\n",
        "\n",
        "# hasilnya tidak menampilkan angka yang sama lebih dari 1"
      ],
      "metadata": {
        "colab": {
          "base_uri": "https://localhost:8080/"
        },
        "id": "ZKTdgIPIzeQk",
        "outputId": "35ff7ff2-3335-4eff-cbf5-700ea235ef2c"
      },
      "execution_count": null,
      "outputs": [
        {
          "output_type": "stream",
          "name": "stdout",
          "text": [
            "{1, 2, 3, 4, 5}\n",
            "5\n"
          ]
        }
      ]
    },
    {
      "cell_type": "code",
      "source": [
        "# set tidak support indexing\n",
        "\n",
        "print(set2[0])"
      ],
      "metadata": {
        "colab": {
          "base_uri": "https://localhost:8080/",
          "height": 176
        },
        "id": "6BYefcdczo0T",
        "outputId": "4374225c-9909-456b-fda1-8a8b9de91e1c"
      },
      "execution_count": null,
      "outputs": [
        {
          "output_type": "error",
          "ename": "TypeError",
          "evalue": "'set' object is not subscriptable",
          "traceback": [
            "\u001b[0;31m---------------------------------------------------------------------------\u001b[0m",
            "\u001b[0;31mTypeError\u001b[0m                                 Traceback (most recent call last)",
            "\u001b[0;32m<ipython-input-31-0b774e043d39>\u001b[0m in \u001b[0;36m<cell line: 3>\u001b[0;34m()\u001b[0m\n\u001b[1;32m      1\u001b[0m \u001b[0;31m# set tidak support indexing\u001b[0m\u001b[0;34m\u001b[0m\u001b[0;34m\u001b[0m\u001b[0m\n\u001b[1;32m      2\u001b[0m \u001b[0;34m\u001b[0m\u001b[0m\n\u001b[0;32m----> 3\u001b[0;31m \u001b[0mprint\u001b[0m\u001b[0;34m(\u001b[0m\u001b[0mset2\u001b[0m\u001b[0;34m[\u001b[0m\u001b[0;36m0\u001b[0m\u001b[0;34m]\u001b[0m\u001b[0;34m)\u001b[0m\u001b[0;34m\u001b[0m\u001b[0;34m\u001b[0m\u001b[0m\n\u001b[0m",
            "\u001b[0;31mTypeError\u001b[0m: 'set' object is not subscriptable"
          ]
        }
      ]
    },
    {
      "cell_type": "code",
      "source": [
        "# convert list to set\n",
        "\n",
        "listnew = [2,3,3,3,5,4,4,2,1]\n",
        "print(listnew)\n",
        "print(type(listnew))\n",
        "\n",
        "setnew = set(listnew)\n",
        "print(setnew)\n",
        "print(type(setnew))"
      ],
      "metadata": {
        "colab": {
          "base_uri": "https://localhost:8080/"
        },
        "id": "eASrDIJ4z5CG",
        "outputId": "440da96c-ea63-4b53-b743-32b8a4639acf"
      },
      "execution_count": null,
      "outputs": [
        {
          "output_type": "stream",
          "name": "stdout",
          "text": [
            "[2, 3, 3, 3, 5, 4, 4, 2, 1]\n",
            "<class 'list'>\n",
            "{1, 2, 3, 4, 5}\n",
            "<class 'set'>\n"
          ]
        }
      ]
    },
    {
      "cell_type": "markdown",
      "source": [
        "## **DICTIONARY**"
      ],
      "metadata": {
        "id": "D1ZLNzzS0dwg"
      }
    },
    {
      "cell_type": "code",
      "source": [
        "# dictionary menggunakan key dan value\n",
        "# dictionary menggunakan kurung kriting {}\n",
        "\n",
        "data_dict = {'nama':'Novrian', 'umur':22, 'pekerjaan':'Mahasiswa', 'tinggi':178}\n",
        "print(data_dict)\n",
        "print(type(data_dict))"
      ],
      "metadata": {
        "colab": {
          "base_uri": "https://localhost:8080/"
        },
        "id": "SvjVkYcR0gCY",
        "outputId": "c3e74380-f398-4343-c954-5af11234dc9d"
      },
      "execution_count": null,
      "outputs": [
        {
          "output_type": "stream",
          "name": "stdout",
          "text": [
            "{'nama': 'Novrian', 'umur': 22, 'pekerjaan': 'Mahasiswa', 'tinggi': 178}\n",
            "<class 'dict'>\n"
          ]
        }
      ]
    },
    {
      "cell_type": "code",
      "source": [
        "print(f\"Saya adalah {data_dict['nama']} berumur {data_dict['umur']}\")"
      ],
      "metadata": {
        "colab": {
          "base_uri": "https://localhost:8080/"
        },
        "id": "dcoRmUuV0sWJ",
        "outputId": "c0cfff6b-1184-4f3a-d77b-140d91fe5338"
      },
      "execution_count": null,
      "outputs": [
        {
          "output_type": "stream",
          "name": "stdout",
          "text": [
            "Saya adalah Novrian berumur 22\n"
          ]
        }
      ]
    },
    {
      "cell_type": "code",
      "source": [
        "# dictionary tidak bisa menggunakan value duplicate\n",
        "data_dict2  = {'nama':'Novrian', 'umur':22, 'pekerjaan':'Mahasiswa', 'tinggi':178, 'kerja':'Mahasiswa', 'tinggi':178}\n",
        "print(data_dict2)\n",
        "\n",
        "# hasilnya tidak akan menampilkan key yang sama, harus menggunakan key yang berbeda"
      ],
      "metadata": {
        "colab": {
          "base_uri": "https://localhost:8080/"
        },
        "id": "x2qASlyK1T6k",
        "outputId": "a317a0c8-00a7-4fdd-c1ec-8e2fa63ba204"
      },
      "execution_count": null,
      "outputs": [
        {
          "output_type": "stream",
          "name": "stdout",
          "text": [
            "{'nama': 'Novrian', 'umur': 22, 'pekerjaan': 'Mahasiswa', 'tinggi': 178, 'kerja': 'Mahasiswa'}\n"
          ]
        }
      ]
    },
    {
      "cell_type": "code",
      "source": [],
      "metadata": {
        "id": "P1EJmkiw1jjS"
      },
      "execution_count": null,
      "outputs": []
    }
  ]
}