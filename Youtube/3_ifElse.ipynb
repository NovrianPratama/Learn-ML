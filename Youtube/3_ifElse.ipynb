{
  "nbformat": 4,
  "nbformat_minor": 0,
  "metadata": {
    "colab": {
      "provenance": [],
      "authorship_tag": "ABX9TyNYj/nlUprA5u/H0qIOl1un",
      "include_colab_link": true
    },
    "kernelspec": {
      "name": "python3",
      "display_name": "Python 3"
    },
    "language_info": {
      "name": "python"
    }
  },
  "cells": [
    {
      "cell_type": "markdown",
      "metadata": {
        "id": "view-in-github",
        "colab_type": "text"
      },
      "source": [
        "<a href=\"https://colab.research.google.com/github/NovrianPratama/MachineLearning/blob/main/3_ifElse.ipynb\" target=\"_parent\"><img src=\"https://colab.research.google.com/assets/colab-badge.svg\" alt=\"Open In Colab\"/></a>"
      ]
    },
    {
      "cell_type": "markdown",
      "source": [
        "# **If Else, Elif, dan Nested if**"
      ],
      "metadata": {
        "id": "iN62qtFC8Jyf"
      }
    },
    {
      "cell_type": "code",
      "source": [
        "# If else\n",
        "\n",
        "nilai_1 = int(input(\"Masukkan nilai 1: \"))\n",
        "nilai_2 = int(input(\"Masukkan nilai 2: \"))\n",
        "\n",
        "if nilai_1 > nilai_2:\n",
        "  print(f\"Nilai 1 {nilai_1} Lebih Besar\")\n",
        "else:\n",
        "  print(f\"Nilai 2 {nilai_2} Lebih Besar\")"
      ],
      "metadata": {
        "colab": {
          "base_uri": "https://localhost:8080/"
        },
        "id": "liIMX0eo8RPa",
        "outputId": "4cbfadbf-c793-4900-a506-d752266a6bdd"
      },
      "execution_count": null,
      "outputs": [
        {
          "output_type": "stream",
          "name": "stdout",
          "text": [
            "Masukkan nilai 1: 50\n",
            "Masukkan nilai 2: 20\n",
            "Nilai 1 50 Lebih Besar\n"
          ]
        }
      ]
    },
    {
      "cell_type": "code",
      "source": [
        "# Elif\n",
        "\n",
        "nilai_1 = int(input(\"Masukkan nilai 1: \"))\n",
        "nilai_2 = int(input(\"Masukkan nilai 2: \"))\n",
        "nilai_3 = int(input(\"Masukkan nilai 3: \"))\n",
        "\n",
        "if nilai_1 > nilai_2:\n",
        "  print(f\"Nilai 1 {nilai_1} Lebih Besar\")\n",
        "elif nilai_2 > nilai_1:\n",
        "  print(f\"Nilai 2 {nilai_2} Lebih Besar\")\n",
        "else:\n",
        "  print(f\"Nilai 3 {nilai_3} Lebih Besar\")"
      ],
      "metadata": {
        "colab": {
          "base_uri": "https://localhost:8080/"
        },
        "id": "Io2-4SQq8pt1",
        "outputId": "57c9b4b6-83ea-46a2-e385-5a21179c2464"
      },
      "execution_count": null,
      "outputs": [
        {
          "output_type": "stream",
          "name": "stdout",
          "text": [
            "Masukkan nilai 1: 2\n",
            "Masukkan nilai 2: 2\n",
            "Masukkan nilai 3: 5\n",
            "Nilai 3 5 Lebih Besar\n"
          ]
        }
      ]
    },
    {
      "cell_type": "code",
      "source": [
        "# Nested if\n",
        "\n",
        "nilai_1 = int(input(\"Masukkan nilai 1: \"))\n",
        "nilai_2 = int(input(\"Masukkan nilai 2: \"))\n",
        "nilai_3 = int(input(\"Masukkan nilai 3: \"))\n",
        "\n",
        "if nilai_1 > nilai_2:\n",
        "  if nilai_1 > nilai_3:\n",
        "    print(f\"Nilai 1 {nilai_1} Lebih Besar\")\n",
        "  else:\n",
        "    print(f\"Nilai 3 {nilai_3} Lebih Besar\")\n",
        "else:\n",
        "  if nilai_2 > nilai_3:\n",
        "    print(f\"Nilai 2 {nilai_2} Lebih Besar\")\n",
        "  else:\n",
        "    print(f\"Nilai 3 {nilai_3} Lebih Besar\")"
      ],
      "metadata": {
        "colab": {
          "base_uri": "https://localhost:8080/"
        },
        "id": "HVykdF4U9HNz",
        "outputId": "0ef29d00-4648-470e-998e-1fbe3db9a59d"
      },
      "execution_count": null,
      "outputs": [
        {
          "output_type": "stream",
          "name": "stdout",
          "text": [
            "Masukkan nilai 1: 3\n",
            "Masukkan nilai 2: 2\n",
            "Masukkan nilai 3: 5\n",
            "Nilai 3 5 Lebih Besar\n"
          ]
        }
      ]
    },
    {
      "cell_type": "code",
      "source": [],
      "metadata": {
        "id": "pSn87S5m-ZeL"
      },
      "execution_count": null,
      "outputs": []
    }
  ]
}