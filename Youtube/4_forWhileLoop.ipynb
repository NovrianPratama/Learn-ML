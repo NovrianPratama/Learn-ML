{
  "nbformat": 4,
  "nbformat_minor": 0,
  "metadata": {
    "colab": {
      "provenance": [],
      "authorship_tag": "ABX9TyN0y2McTs+qU/YXSeDxisWP",
      "include_colab_link": true
    },
    "kernelspec": {
      "name": "python3",
      "display_name": "Python 3"
    },
    "language_info": {
      "name": "python"
    }
  },
  "cells": [
    {
      "cell_type": "markdown",
      "metadata": {
        "id": "view-in-github",
        "colab_type": "text"
      },
      "source": [
        "<a href=\"https://colab.research.google.com/github/NovrianPratama/MachineLearning/blob/main/4_forWhileLoop.ipynb\" target=\"_parent\"><img src=\"https://colab.research.google.com/assets/colab-badge.svg\" alt=\"Open In Colab\"/></a>"
      ]
    },
    {
      "cell_type": "markdown",
      "source": [
        "# **For Loop**"
      ],
      "metadata": {
        "id": "4u0AbSa8fyAC"
      }
    },
    {
      "cell_type": "code",
      "execution_count": null,
      "metadata": {
        "colab": {
          "base_uri": "https://localhost:8080/"
        },
        "id": "OCnS_O2Qfp_m",
        "outputId": "a92b2183-9c49-4e3c-8b13-97716829ba14"
      },
      "outputs": [
        {
          "output_type": "stream",
          "name": "stdout",
          "text": [
            "Masukan Nilai Mahasiswa : Novrian\n",
            "Novrian\n",
            "Masukan Nilai Mahasiswa : Yusuf\n",
            "Yusuf\n",
            "Masukan Nilai Mahasiswa : Agil\n",
            "Agil\n",
            "Masukan Nilai Mahasiswa : Dani\n",
            "Dani\n",
            "Masukan Nilai Mahasiswa : Rahmat\n",
            "Rahmat\n"
          ]
        }
      ],
      "source": [
        "for i in range(5):\n",
        "  mahasiswa = str(input(\"Masukan Nama Mahasiswa : \"))\n",
        "  print(mahasiswa)"
      ]
    },
    {
      "cell_type": "code",
      "source": [
        "for i in range(5):\n",
        "  nilai = int(input(\"Masukan Nilai Mahasiswa : \"))"
      ],
      "metadata": {
        "colab": {
          "base_uri": "https://localhost:8080/"
        },
        "id": "i0ySKQYFgQLG",
        "outputId": "24f18d69-4bec-480d-fee5-0dc3f4577e21"
      },
      "execution_count": null,
      "outputs": [
        {
          "name": "stdout",
          "output_type": "stream",
          "text": [
            "Masukan Nilai Mahasiswa : 80\n",
            "Masukan Nilai Mahasiswa : 60\n",
            "Masukan Nilai Mahasiswa : 50\n",
            "Masukan Nilai Mahasiswa : 90\n",
            "Masukan Nilai Mahasiswa : 88\n"
          ]
        }
      ]
    },
    {
      "cell_type": "markdown",
      "source": [
        "# **While Loop**"
      ],
      "metadata": {
        "id": "310iAqxGgsvu"
      }
    },
    {
      "cell_type": "code",
      "source": [
        "nilai = 70\n",
        "\n",
        "while nilai > 50:\n",
        "  print(\"Kamu tidak lulus\", nilai)\n",
        "  break"
      ],
      "metadata": {
        "colab": {
          "base_uri": "https://localhost:8080/"
        },
        "id": "nUhp5SuNglot",
        "outputId": "269b7aef-9155-4fb5-e6d9-5fb3e3d60bf6"
      },
      "execution_count": null,
      "outputs": [
        {
          "output_type": "stream",
          "name": "stdout",
          "text": [
            "Kamu tidak lulus 70\n"
          ]
        }
      ]
    },
    {
      "cell_type": "markdown",
      "source": [
        "# **Function Python**"
      ],
      "metadata": {
        "id": "3cQboGiQlQxq"
      }
    },
    {
      "cell_type": "code",
      "source": [
        "# without use function\n",
        "\n",
        "angka = int(input('Masukkan angka: '))\n",
        "\n",
        "function = 1\n",
        "\n",
        "if angka == 0:\n",
        "  print(\"Faktorial angka 0 adalah 1\")\n",
        "else:\n",
        "  for i in range(1, angka+1):\n",
        "    function = function*i\n",
        "  print(f'Hasil Perhitungan {angka} adalah {function}')"
      ],
      "metadata": {
        "colab": {
          "base_uri": "https://localhost:8080/"
        },
        "id": "eWS0xryUhAXI",
        "outputId": "87c9394a-d25e-42cf-ae94-0c5f0bfc0bd1"
      },
      "execution_count": null,
      "outputs": [
        {
          "output_type": "stream",
          "name": "stdout",
          "text": [
            "Masukkan angka: 10\n",
            "Hasil Perhitungan 10 adalah 3628800\n"
          ]
        }
      ]
    },
    {
      "cell_type": "code",
      "source": [
        "def faktorial(angka):\n",
        "  function = 1\n",
        "\n",
        "  if angka == 0:\n",
        "    return faktorial\n",
        "  else:\n",
        "    for i in range(1, angka+1):\n",
        "      function = function*i\n",
        "    return function"
      ],
      "metadata": {
        "id": "rbIrpt69lxfw"
      },
      "execution_count": null,
      "outputs": []
    },
    {
      "cell_type": "code",
      "source": [
        "nilai = faktorial(5)\n",
        "print(nilai)"
      ],
      "metadata": {
        "colab": {
          "base_uri": "https://localhost:8080/"
        },
        "id": "Jwa6aUIQuXgh",
        "outputId": "65bffdd0-23c2-4fa4-e818-7e326499da4b"
      },
      "execution_count": null,
      "outputs": [
        {
          "output_type": "stream",
          "name": "stdout",
          "text": [
            "120\n"
          ]
        }
      ]
    },
    {
      "cell_type": "code",
      "source": [
        "print(f\"Faktorial 4 yaitu {faktorial(4)}\")"
      ],
      "metadata": {
        "colab": {
          "base_uri": "https://localhost:8080/"
        },
        "id": "W8RUshYDujuJ",
        "outputId": "08e124ec-8d5f-41f7-be95-8e691d856ada"
      },
      "execution_count": null,
      "outputs": [
        {
          "output_type": "stream",
          "name": "stdout",
          "text": [
            "Faktorial 4 yaitu 24\n"
          ]
        }
      ]
    },
    {
      "cell_type": "code",
      "source": [],
      "metadata": {
        "id": "vmcyMNduu8CB"
      },
      "execution_count": null,
      "outputs": []
    }
  ]
}