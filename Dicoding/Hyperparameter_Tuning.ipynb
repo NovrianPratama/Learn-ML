{
  "nbformat": 4,
  "nbformat_minor": 0,
  "metadata": {
    "colab": {
      "provenance": [],
      "authorship_tag": "ABX9TyM6L0dnkUPr2+VkTh2JDOlq",
      "include_colab_link": true
    },
    "kernelspec": {
      "name": "python3",
      "display_name": "Python 3"
    },
    "language_info": {
      "name": "python"
    }
  },
  "cells": [
    {
      "cell_type": "markdown",
      "metadata": {
        "id": "view-in-github",
        "colab_type": "text"
      },
      "source": [
        "<a href=\"https://colab.research.google.com/github/NovrianPratama/MachineLearning/blob/main/Hyperparameter_Tuning.ipynb\" target=\"_parent\"><img src=\"https://colab.research.google.com/assets/colab-badge.svg\" alt=\"Open In Colab\"/></a>"
      ]
    },
    {
      "cell_type": "markdown",
      "source": [
        "# **Hyper Parameter Tuning dalam Regresi**"
      ],
      "metadata": {
        "id": "BIi2D2jfbIGk"
      }
    },
    {
      "cell_type": "code",
      "execution_count": null,
      "metadata": {
        "id": "vKjaJavHq00w"
      },
      "outputs": [],
      "source": [
        "import pandas as pd\n",
        "import numpy as np\n",
        "import matplotlib.pyplot as plt\n",
        "import seaborn as sns\n",
        "\n",
        "from sklearn.datasets import fetch_california_housing\n",
        "from sklearn.model_selection import train_test_split\n",
        "from sklearn.preprocessing import StandardScaler\n",
        "from sklearn.linear_model import LinearRegression\n",
        "from sklearn.metrics import mean_squared_error\n",
        "from sklearn.ensemble import RandomForestRegressor"
      ]
    },
    {
      "cell_type": "code",
      "source": [
        "# Mengunduh dataset\n",
        "X, y = fetch_california_housing(return_X_y=True)\n",
        "\n",
        "# Membagi dataset\n",
        "X_train, X_test, y_train, y_test = train_test_split(X, y, test_size=0.3, random_state=42)\n",
        "\n",
        "# Normalisasi dataset\n",
        "scaler = StandardScaler()\n",
        "X_train = scaler.fit_transform(X_train)\n",
        "X_test = scaler.transform(X_test)\n",
        "\n",
        "# menampilkan jumlah baris dan kolom dari hasil normalisass\n",
        "print(f\"Jumlah Baris pada X_train: {X_train.shape}\")\n",
        "print(f\"Jumlah Baris pada X_test: {X_test.shape}\")\n",
        "# print(f\"Jumlah Baris pada X_test: {y_test.shape}\")"
      ],
      "metadata": {
        "colab": {
          "base_uri": "https://localhost:8080/"
        },
        "id": "fqJanoGobmLb",
        "outputId": "12b46ab4-ce57-4499-cb9b-97d338d96a57"
      },
      "execution_count": null,
      "outputs": [
        {
          "output_type": "stream",
          "name": "stdout",
          "text": [
            "Jumlah Baris pada X_train: (14448, 8)\n",
            "Jumlah Baris pada X_test: (6192, 8)\n"
          ]
        }
      ]
    },
    {
      "cell_type": "code",
      "source": [
        "# Melakukan inisiasi model\n",
        "model_rf = RandomForestRegressor(random_state=42)\n",
        "model_rf.fit(X_train, y_train)\n",
        "\n",
        "# Melakukan evaluasi sebelum tuning\n",
        "y_pred = model_rf.predict(X_test)\n",
        "initial_mse = mean_squared_error(y_test, y_pred)\n",
        "print(f\"MSE sebelum tuning: {initial_mse:.2f}\")"
      ],
      "metadata": {
        "colab": {
          "base_uri": "https://localhost:8080/"
        },
        "id": "b6H8vn0wqGWL",
        "outputId": "06f7d849-1915-4abc-ea9a-16736be3494d"
      },
      "execution_count": null,
      "outputs": [
        {
          "output_type": "stream",
          "name": "stdout",
          "text": [
            "MSE sebelum tuning: 0.26\n"
          ]
        }
      ]
    },
    {
      "cell_type": "markdown",
      "source": [
        "## **Random Search**"
      ],
      "metadata": {
        "id": "GqtdgLOYokiZ"
      }
    },
    {
      "cell_type": "code",
      "source": [
        "from sklearn.model_selection import RandomizedSearchCV\n",
        "import time\n",
        "\n",
        "# Inisialisasi waktu mulai\n",
        "start_time = time.time() # waktu mulai\n",
        "# Definisi ruang pencarian\n",
        "param_dist = {\n",
        "    'n_estimators' : np.arange(100, 500, 100),\n",
        "    'max_depth' : np.arange(10, 50, 10),\n",
        "    'min_samples_split' : np.arange(2, 11, 2),\n",
        "    'min_samples_leaf' : np.arange(1, 5),\n",
        "    'bootstrap' : [True, False]\n",
        "}\n",
        "\n",
        "# Inisialisasi RandomizedSearch\n",
        "random_search = RandomizedSearchCV(estimator=model_rf, param_distributions=param_dist, n_iter=5, cv=3, n_jobs=-1, verbose=2, random_state=42)\n",
        "random_search.fit(X_train, y_train)\n",
        "\n",
        "# Output hasil terbaik\n",
        "print(f\"Best Random Search: {random_search.best_params_}\")\n",
        "best_rf_random = random_search.best_estimator_\n",
        "\n",
        "# Evaluasi performa model setelah random search\n",
        "y_pred_random = best_rf_random.predict(X_test)\n",
        "random_mse = mean_squared_error(y_test, y_pred_random)\n",
        "print(f\"MSE setelah tuning Random Search: {random_mse:.2f}\")\n",
        "\n",
        "end_time = time.time() # waktu berahkir\n",
        "execution_time = end_time - start_time # waktu eksekusi\n",
        "print(f\"Waktu Eksekusi Tuning: {execution_time:.4f} Detik\")"
      ],
      "metadata": {
        "colab": {
          "base_uri": "https://localhost:8080/"
        },
        "id": "TNWbonHAooSc",
        "outputId": "9912b0b2-ce56-44fb-8606-5f5f7a1ba948"
      },
      "execution_count": null,
      "outputs": [
        {
          "output_type": "stream",
          "name": "stdout",
          "text": [
            "Fitting 3 folds for each of 5 candidates, totalling 15 fits\n",
            "Best Random Search: {'n_estimators': 300, 'min_samples_split': 2, 'min_samples_leaf': 2, 'max_depth': 20, 'bootstrap': True}\n",
            "MSE setelah tuning Random Search: 0.25\n",
            "Waktu Eksekusi Tuning: 429.3167 Detik\n"
          ]
        }
      ]
    },
    {
      "cell_type": "markdown",
      "source": [
        "## Hyperparameter Bayes Optimization"
      ],
      "metadata": {
        "id": "42eOSwVIwldy"
      }
    },
    {
      "cell_type": "code",
      "source": [
        "pip install -U scikit-optimize\n"
      ],
      "metadata": {
        "colab": {
          "base_uri": "https://localhost:8080/"
        },
        "id": "WpYk2f7zy3_0",
        "outputId": "edb52c43-d995-4889-ffed-6f584f0a995f"
      },
      "execution_count": null,
      "outputs": [
        {
          "output_type": "stream",
          "name": "stdout",
          "text": [
            "Requirement already satisfied: scikit-optimize in /usr/local/lib/python3.10/dist-packages (0.10.2)\n",
            "Requirement already satisfied: joblib>=0.11 in /usr/local/lib/python3.10/dist-packages (from scikit-optimize) (1.4.2)\n",
            "Requirement already satisfied: pyaml>=16.9 in /usr/local/lib/python3.10/dist-packages (from scikit-optimize) (24.12.1)\n",
            "Requirement already satisfied: numpy>=1.20.3 in /usr/local/lib/python3.10/dist-packages (from scikit-optimize) (1.26.4)\n",
            "Requirement already satisfied: scipy>=1.1.0 in /usr/local/lib/python3.10/dist-packages (from scikit-optimize) (1.13.1)\n",
            "Requirement already satisfied: scikit-learn>=1.0.0 in /usr/local/lib/python3.10/dist-packages (from scikit-optimize) (1.6.0)\n",
            "Requirement already satisfied: packaging>=21.3 in /usr/local/lib/python3.10/dist-packages (from scikit-optimize) (24.2)\n",
            "Requirement already satisfied: PyYAML in /usr/local/lib/python3.10/dist-packages (from pyaml>=16.9->scikit-optimize) (6.0.2)\n",
            "Requirement already satisfied: threadpoolctl>=3.1.0 in /usr/local/lib/python3.10/dist-packages (from scikit-learn>=1.0.0->scikit-optimize) (3.5.0)\n"
          ]
        }
      ]
    },
    {
      "cell_type": "code",
      "source": [
        "import skopt\n",
        "from skopt import BayesSearchCV\n",
        "\n",
        "start_time = time.time() # waktu mulai eksekusi\n",
        "\n",
        "# Definisi ruang pencarian\n",
        "param_space = {\n",
        "    'n_estimators': (100, 500),\n",
        "    'max_depth': (10, 50),\n",
        "    'min_samples_split': (2, 10),\n",
        "    'min_samples_leaf': (1, 4),\n",
        "    'bootstrap': [True, False]\n",
        "}\n",
        "\n",
        "# initial bayes optimation\n",
        "bayes_search = BayesSearchCV(estimator=model_rf, search_spaces=param_space, n_iter=32, cv=3, n_jobs=-1, verbose=2, random_state=42)\n",
        "bayes_search.fit(X_train, y_train)\n",
        "\n",
        "# Ouput hasil terbaik\n",
        "print(f\"Best Bayes Optimation: {bayes_search.best_params_}\")\n",
        "best_rf_bayes = bayes_search.best_estimator_\n",
        "\n",
        "# evaluasi performa model\n",
        "y_pred_bayes = best_rf_bayes.predict(X_test)\n",
        "bayes_mse = mean_squared_error(y_test, y_pred_bayes)\n",
        "print(f\"MSE setelah tuning Bayes Optimation: {bayes_mse:.2f}\")\n",
        "\n",
        "end_time = time.time() # waktu berakhir\n",
        "execution_time = end_time - start_time # waktu eksekusi\n",
        "print(f\"Waktu Eksekusi Tuning: {execution_time:.4f} Detik\")"
      ],
      "metadata": {
        "id": "mMq3zvDOEZEv"
      },
      "execution_count": null,
      "outputs": []
    },
    {
      "cell_type": "markdown",
      "source": [
        "## Hyperparameter Tuning GridSearchCV"
      ],
      "metadata": {
        "id": "kBEJZPkQEXQd"
      }
    },
    {
      "cell_type": "code",
      "source": [
        "from sklearn.model_selection import GridSearchCV\n",
        "import time\n",
        "\n",
        "start_time = time.time() # Mencatat waktu mulai\n",
        "\n",
        "# Definisi parameter dalam grid\n",
        "param_grid = {\n",
        "    'n_estimators' : [100, 200, 300],\n",
        "    'max_depth' : [10, 20, 30],\n",
        "    'min_samples_split' : [2, 5, 10],\n",
        "    'min_samples_leaf' : [1, 2, 4],\n",
        "    'bootstrap' : [True, False]\n",
        "}\n",
        "\n",
        "# Inisialisasi GridSearchCV\n",
        "grid_search = GridSearchCV(estimator=model_rf, param_grid=param_grid, cv=3, n_jobs=-1, verbose=2)\n",
        "grid_search.fit(X_train, y_train)\n",
        "\n",
        "# output hasil terbaik\n",
        "print(f\"Best output Grid Search: {grid_search.best_params_}\")\n",
        "best_rf_grid = grid_search.best_estimator_\n",
        "\n",
        "# Evaluasi performa model setelah grid\n",
        "y_pred_grid = best_rf_grid.predict(X_test)\n",
        "grid_mse = mean_squared_error(y_test, y_pred_grid)\n",
        "print(f\"MSE setelah turning: {grid_mse:.2f}\")\n",
        "\n",
        "end_time = time.time() # Mencatat Waktu berakhir\n",
        "execution_time = end_time - start_time # Menghitung waktu eksekusi\n",
        "print(f\"Waktu eksekusi: {execution_time:.4f} Detik\")"
      ],
      "metadata": {
        "id": "EOq7M6cId2q2"
      },
      "execution_count": null,
      "outputs": []
    },
    {
      "cell_type": "code",
      "source": [],
      "metadata": {
        "id": "4AA0j5KGh_We"
      },
      "execution_count": null,
      "outputs": []
    }
  ]
}